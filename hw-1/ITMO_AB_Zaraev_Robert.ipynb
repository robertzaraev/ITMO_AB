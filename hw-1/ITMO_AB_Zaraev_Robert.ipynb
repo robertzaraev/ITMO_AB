{
 "cells": [
  {
   "cell_type": "code",
   "execution_count": 1,
   "id": "f6cb7db5",
   "metadata": {
    "ExecuteTime": {
     "end_time": "2023-11-21T15:44:01.977863Z",
     "start_time": "2023-11-21T15:44:00.190474Z"
    }
   },
   "outputs": [],
   "source": [
    "import numpy as np\n",
    "import scipy\n",
    "import matplotlib.pyplot as plt\n",
    "import scipy.stats as stats\n",
    "import statsmodels\n",
    "import statsmodels.sandbox.stats.multicomp\n",
    "import pandas as pd\n",
    "import datetime\n",
    "from statsmodels.stats.weightstats import ztest\n",
    "\n",
    "import matplotlib.pyplot as plt\n",
    "import seaborn as sns\n",
    "\n",
    "from tqdm import tqdm\n",
    "from sklearn.utils import shuffle\n",
    "import hashlib\n",
    "from base64 import b64encode\n",
    "import collections"
   ]
  },
  {
   "cell_type": "code",
   "execution_count": 2,
   "id": "355de23e",
   "metadata": {
    "ExecuteTime": {
     "end_time": "2023-11-21T15:44:06.214589Z",
     "start_time": "2023-11-21T15:44:06.197634Z"
    }
   },
   "outputs": [
    {
     "name": "stderr",
     "output_type": "stream",
     "text": [
      "/var/folders/k0/63_q54b92xq0jn878sr6yb3w80rd_w/T/ipykernel_10649/2903869872.py:1: FutureWarning: Passing a negative integer is deprecated in version 1.0 and will not be supported in future version. Instead, use None to not limit the column width.\n",
      "  pd.set_option('display.max_colwidth', -1)\n"
     ]
    }
   ],
   "source": [
    "pd.set_option('display.max_colwidth', -1)\n",
    "pd.set_option('display.max_columns', 1000)\n",
    "pd.set_option('display.max_rows', 20000)"
   ]
  },
  {
   "cell_type": "code",
   "execution_count": 42,
   "id": "72c53b8d",
   "metadata": {
    "ExecuteTime": {
     "end_time": "2023-11-21T15:59:44.611350Z",
     "start_time": "2023-11-21T15:59:44.602349Z"
    }
   },
   "outputs": [],
   "source": [
    "def salt_generator(salt=None):\n",
    "    import os\n",
    "    from base64 import b64encode # кодирует байтоподобный объект с помощью Base64 и возвращает закодированную байтовую строку.\n",
    "    salt = os.urandom(8)\n",
    "    \n",
    "    return b64encode(salt).decode('ascii')\n",
    "\n",
    "# '''os.urandom() method is used to generate a string of size random bytes suitable for cryptographic use \n",
    "#    or we can say this method generates a string containing random characters.'''\n",
    "# https://www.geeksforgeeks.org/python-os-urandom-method/ "
   ]
  },
  {
   "cell_type": "code",
   "execution_count": 43,
   "id": "5a168602",
   "metadata": {
    "ExecuteTime": {
     "end_time": "2023-11-21T16:00:49.885965Z",
     "start_time": "2023-11-21T16:00:49.868013Z"
    }
   },
   "outputs": [
    {
     "data": {
      "text/plain": [
       "'pKyrk4p/jSU='"
      ]
     },
     "execution_count": 43,
     "metadata": {},
     "output_type": "execute_result"
    }
   ],
   "source": [
    "salt_generator()"
   ]
  },
  {
   "cell_type": "code",
   "execution_count": 4,
   "id": "7ab79d9c",
   "metadata": {
    "ExecuteTime": {
     "end_time": "2023-11-21T16:03:10.269372Z",
     "start_time": "2023-11-21T16:03:10.259399Z"
    }
   },
   "outputs": [],
   "source": [
    "# Делим на 2 равные группы \n",
    "def groups_splitter(df, columns, user_salt=None):\n",
    "    \n",
    "    if user_salt == None:\n",
    "        salt = salt_generator()\n",
    "    else:\n",
    "        salt = user_salt\n",
    "    \n",
    "    df['hash'] = ((df['user_id'].astype(str)) + '#' + salt).apply(lambda x: hashlib.sha256(x.encode('utf-8')).hexdigest())\n",
    "\n",
    "    df['group'] = ((df['hash'].str.slice(start=-6).apply(int, base=16) % 2).map(lambda x: 'A' if x == 0 else 'B'))\n",
    "\n",
    "    return df[columns].drop_duplicates()"
   ]
  },
  {
   "cell_type": "code",
   "execution_count": 5,
   "id": "b62d96ff",
   "metadata": {
    "ExecuteTime": {
     "end_time": "2023-11-21T16:07:04.619072Z",
     "start_time": "2023-11-21T16:07:04.602093Z"
    }
   },
   "outputs": [],
   "source": [
    "from scipy.stats import norm"
   ]
  },
  {
   "cell_type": "code",
   "execution_count": 6,
   "id": "efa12f26",
   "metadata": {
    "ExecuteTime": {
     "end_time": "2023-11-21T16:07:49.083256Z",
     "start_time": "2023-11-21T16:07:49.064308Z"
    }
   },
   "outputs": [],
   "source": [
    "def get_mde(metric_vec, alpha=0.05, beta=0.2):\n",
    "    \n",
    "    metric_mean, metric_std, metric_n = metric_vec.mean(), metric_vec.std(), metric_vec.count()\n",
    "    \n",
    "    z_alpha = norm.ppf(1 - (alpha / 2), loc=0, scale=1)\n",
    "    z_beta = norm.ppf(1 - beta, loc=0, scale=1)\n",
    "    \n",
    "    mde = (z_alpha + z_beta)*metric_std / np.sqrt(metric_n)\n",
    "    \n",
    "    return mde*100/metric_mean"
   ]
  },
  {
   "cell_type": "code",
   "execution_count": 39,
   "id": "ae1a0df5",
   "metadata": {
    "ExecuteTime": {
     "end_time": "2023-11-21T16:28:23.160768Z",
     "start_time": "2023-11-21T16:28:19.955956Z"
    }
   },
   "outputs": [],
   "source": [
    "interactions = pd.read_csv('data_kion/interactions_df.csv')"
   ]
  },
  {
   "cell_type": "code",
   "execution_count": 40,
   "id": "173ead0b",
   "metadata": {
    "ExecuteTime": {
     "end_time": "2023-11-21T16:28:32.615794Z",
     "start_time": "2023-11-21T16:28:32.592854Z"
    }
   },
   "outputs": [
    {
     "data": {
      "text/html": [
       "<div>\n",
       "<style scoped>\n",
       "    .dataframe tbody tr th:only-of-type {\n",
       "        vertical-align: middle;\n",
       "    }\n",
       "\n",
       "    .dataframe tbody tr th {\n",
       "        vertical-align: top;\n",
       "    }\n",
       "\n",
       "    .dataframe thead th {\n",
       "        text-align: right;\n",
       "    }\n",
       "</style>\n",
       "<table border=\"1\" class=\"dataframe\">\n",
       "  <thead>\n",
       "    <tr style=\"text-align: right;\">\n",
       "      <th></th>\n",
       "      <th>user_id</th>\n",
       "      <th>item_id</th>\n",
       "      <th>last_watch_dt</th>\n",
       "      <th>total_dur</th>\n",
       "      <th>watched_pct</th>\n",
       "    </tr>\n",
       "  </thead>\n",
       "  <tbody>\n",
       "    <tr>\n",
       "      <th>0</th>\n",
       "      <td>176549</td>\n",
       "      <td>9506</td>\n",
       "      <td>2021-05-11</td>\n",
       "      <td>4250</td>\n",
       "      <td>72.0</td>\n",
       "    </tr>\n",
       "    <tr>\n",
       "      <th>1</th>\n",
       "      <td>699317</td>\n",
       "      <td>1659</td>\n",
       "      <td>2021-05-29</td>\n",
       "      <td>8317</td>\n",
       "      <td>100.0</td>\n",
       "    </tr>\n",
       "    <tr>\n",
       "      <th>2</th>\n",
       "      <td>656683</td>\n",
       "      <td>7107</td>\n",
       "      <td>2021-05-09</td>\n",
       "      <td>10</td>\n",
       "      <td>0.0</td>\n",
       "    </tr>\n",
       "    <tr>\n",
       "      <th>3</th>\n",
       "      <td>864613</td>\n",
       "      <td>7638</td>\n",
       "      <td>2021-07-05</td>\n",
       "      <td>14483</td>\n",
       "      <td>100.0</td>\n",
       "    </tr>\n",
       "    <tr>\n",
       "      <th>4</th>\n",
       "      <td>964868</td>\n",
       "      <td>9506</td>\n",
       "      <td>2021-04-30</td>\n",
       "      <td>6725</td>\n",
       "      <td>100.0</td>\n",
       "    </tr>\n",
       "    <tr>\n",
       "      <th>5476246</th>\n",
       "      <td>648596</td>\n",
       "      <td>12225</td>\n",
       "      <td>2021-08-13</td>\n",
       "      <td>76</td>\n",
       "      <td>0.0</td>\n",
       "    </tr>\n",
       "    <tr>\n",
       "      <th>5476247</th>\n",
       "      <td>546862</td>\n",
       "      <td>9673</td>\n",
       "      <td>2021-04-13</td>\n",
       "      <td>2308</td>\n",
       "      <td>49.0</td>\n",
       "    </tr>\n",
       "    <tr>\n",
       "      <th>5476248</th>\n",
       "      <td>697262</td>\n",
       "      <td>15297</td>\n",
       "      <td>2021-08-20</td>\n",
       "      <td>18307</td>\n",
       "      <td>63.0</td>\n",
       "    </tr>\n",
       "    <tr>\n",
       "      <th>5476249</th>\n",
       "      <td>384202</td>\n",
       "      <td>16197</td>\n",
       "      <td>2021-04-19</td>\n",
       "      <td>6203</td>\n",
       "      <td>100.0</td>\n",
       "    </tr>\n",
       "    <tr>\n",
       "      <th>5476250</th>\n",
       "      <td>319709</td>\n",
       "      <td>4436</td>\n",
       "      <td>2021-08-15</td>\n",
       "      <td>3921</td>\n",
       "      <td>45.0</td>\n",
       "    </tr>\n",
       "  </tbody>\n",
       "</table>\n",
       "</div>"
      ],
      "text/plain": [
       "         user_id  item_id last_watch_dt  total_dur  watched_pct\n",
       "0        176549   9506     2021-05-11    4250       72.0       \n",
       "1        699317   1659     2021-05-29    8317       100.0      \n",
       "2        656683   7107     2021-05-09    10         0.0        \n",
       "3        864613   7638     2021-07-05    14483      100.0      \n",
       "4        964868   9506     2021-04-30    6725       100.0      \n",
       "5476246  648596   12225    2021-08-13    76         0.0        \n",
       "5476247  546862   9673     2021-04-13    2308       49.0       \n",
       "5476248  697262   15297    2021-08-20    18307      63.0       \n",
       "5476249  384202   16197    2021-04-19    6203       100.0      \n",
       "5476250  319709   4436     2021-08-15    3921       45.0       "
      ]
     },
     "execution_count": 40,
     "metadata": {},
     "output_type": "execute_result"
    }
   ],
   "source": [
    "interactions.head(5).append(interactions.tail())\n",
    "\n",
    "# user_id - уникальный идентификатор пользователя\n",
    "# item_id - уникальный идентификатор контента\n",
    "# last_watch_dt - последняя дата просмотра юзером определенного контента\n",
    "# total_dur - суммарная продолжительность просмотра определенного контента юзером (в секундах)\n",
    "# watched_pct - процент просмотренного контента от общей продолжительности"
   ]
  },
  {
   "cell_type": "markdown",
   "id": "2674797e",
   "metadata": {
    "ExecuteTime": {
     "end_time": "2023-11-19T19:57:10.005582Z",
     "start_time": "2023-11-19T19:57:09.985610Z"
    }
   },
   "source": [
    "\n",
    "## Переходим к валидации критерия\n",
    "- оценка распределения p_value\n",
    "- оценка мощности\n",
    "- корректности\n",
    "\n",
    "**Распределения p_value** при корректном подборе пары метрика + критерий -  равномерное распределение\n",
    "\n",
    "**Достоверность (Корректность)** - вероятность того, что найдет различие, когда его нет\n",
    "\n",
    "$$significance = Pr(\\text{reject }H_0 | H_0 \\text{ is true})$$\n",
    "\n",
    "**Мощность** - вероятность того, что критерий найдет различие в случае, когда оно есть\n",
    "\n",
    "$$power = Pr(\\text{reject }H_0 | H_1 \\text{ is true})$$\n"
   ]
  },
  {
   "cell_type": "code",
   "execution_count": 7,
   "id": "9ad71a72",
   "metadata": {
    "ExecuteTime": {
     "end_time": "2023-11-21T17:01:08.365731Z",
     "start_time": "2023-11-21T17:01:08.359721Z"
    }
   },
   "outputs": [],
   "source": [
    "def salt_generator(salt=None):\n",
    "    import os\n",
    "    from base64 import b64encode\n",
    "    salt = os.urandom(8)\n",
    "    \n",
    "    return b64encode(salt).decode('ascii')\n",
    "\n",
    "\n",
    "def get_bootstrap_array(arr):\n",
    "    return np.random.choice(arr, replace=True, size=len(arr))\n",
    "\n",
    "\n",
    "def calc_bootstrap_mean(arr, size=1000):\n",
    "    result = np.empty(size)\n",
    "    for i in range(size):\n",
    "        result[i] = np.mean(get_bootstrap_array(arr))\n",
    "    return result"
   ]
  },
  {
   "cell_type": "code",
   "execution_count": 48,
   "id": "2c206b83",
   "metadata": {
    "ExecuteTime": {
     "end_time": "2023-11-21T17:01:09.659590Z",
     "start_time": "2023-11-21T17:01:09.655626Z"
    }
   },
   "outputs": [],
   "source": [
    "def get_p_value(dist):\n",
    "    dist = np.array(dist)\n",
    "    x = (dist > 0).mean()\n",
    "    pvalue = min(x, 1 - x) * 2\n",
    "    return pvalue"
   ]
  },
  {
   "cell_type": "markdown",
   "id": "4aa61d3b",
   "metadata": {},
   "source": [
    "## Валидируем корректноcть (significance)\n",
    "\n",
    "Моделируем AA-test: прогоняем бутстрап критерий, не добавляя эффект к группе В. Хотим, чтобы критерий НЕ нашел различий в выборках. Если точнее, то нашел не более чем  $\\alpha$ случаях."
   ]
  },
  {
   "cell_type": "code",
   "execution_count": 83,
   "id": "aff354e9",
   "metadata": {
    "ExecuteTime": {
     "end_time": "2023-11-21T17:12:54.883187Z",
     "start_time": "2023-11-21T17:05:39.146069Z"
    }
   },
   "outputs": [
    {
     "name": "stderr",
     "output_type": "stream",
     "text": [
      "100%|██████████| 100/100 [07:15<00:00,  4.36s/it]"
     ]
    },
    {
     "name": "stdout",
     "output_type": "stream",
     "text": [
      "significance: 5.0%\n"
     ]
    },
    {
     "name": "stderr",
     "output_type": "stream",
     "text": [
      "\n"
     ]
    }
   ],
   "source": [
    "correctness = []\n",
    "values = []\n",
    "\n",
    "for i in tqdm(range(100)): # в дз используем 1000 итераций \n",
    "    \n",
    "    new_df = groups_splitter(week1.copy(), columns=['user_id', 'total_dur', 'group'], user_salt=salt_generator()).drop_duplicates()\n",
    "\n",
    "    \n",
    "    vec_a = new_df[(new_df['group'] == 'A')]['total_dur']\n",
    "    vec_b = new_df[(new_df['group'] == 'B')]['total_dur']\n",
    "    \n",
    "    #bootstrap\n",
    "    sample_a_mean = calc_bootstrap_mean(vec_a, size=1000) # на бутстрэпе считаем средние для вектора\n",
    "    sample_b_mean = calc_bootstrap_mean(vec_b, size=1000)\n",
    "    values.append(sample_a_mean - sample_b_mean)\n",
    "    \n",
    "    left_side, right_side = np.percentile(sample_a_mean - sample_b_mean, \n",
    "                                                  [100 * 0.05 / 2., 100 * (1 - 0.05 / 2.)]) # считаем 95% доверительный интервал для разницы средних\n",
    "    \n",
    "    correctness.append(not left_side <= 0 <= right_side)\n",
    "    \n",
    "    test_correctness = collections.Counter(correctness)\n",
    "    \n",
    "print(f'significance: {test_correctness[1]/(test_correctness[1] + test_correctness[0])*100}%')"
   ]
  },
  {
   "cell_type": "markdown",
   "id": "2f01f134",
   "metadata": {},
   "source": [
    "# ДЗ 1:\n",
    "\n",
    "### Дизайн теста\n",
    "1) Из interactions взять данные за 2 последние недели (2021-08-09 по 2021-08-22)\n",
    "\n",
    "2) Посчитайте на этих данных корректность на бутстрепе и сравните ее с результатами за 1 неделю (посчитано на семинаре) (0.5 балла)\n",
    "\n",
    "3) На двух неделях посчитайте мощность. Для этого нужно в одну из групп докинуть эффект. Докиньте эффект в 1%, 3% и 5% и сравните полученную мощность (1.5 балла)\n",
    "\n",
    "4) Посчитайте MDE, который можно зафиксировать на 2х неделях. В качестве alpha и beta подставьте ваши вычисленные ошибки 1 и 2 рода. Учитывайте что у нас формула для MDE работает для t-test или z-test (1 балл)\n",
    "\n",
    "### A/B тест\n",
    "1) Представим что у нас прошел тест, используем те же самые данные за 2 недели\n",
    "\n",
    "2) Занулите для всех пользователей total_dur, у которых total_dur < 500. Их НЕ УБИРАЕМ, а просто обрабатываем эти значения, принимая за нулевые, но пользователей также учитываем в эксперименте (0.5 балла)\n",
    "\n",
    "3) Разбейте их самостоятельно на две равные группы, используйте функцию groups_splitter и соль = 'kiontestmodel20210805' (0.5 балла)\n",
    "\n",
    "4) Оказалось, что модель в группе В показала себя лучше, чем в группе А на 2.5%, причем эффект распространился неравномерно и преимущественно на 10% самых смотрящих пользователей, докиньте такой эффект самостоятельно. Нужно метрику total_dur увеличить на 2.5% для 10% пользователей с самым продолжительным смотрением. (1 балл)\n",
    "\n",
    "5) Посчитайте результат такого теста и сделайте выводы (2 балла)\n",
    "\n",
    "Еще 1 балл можно получить за хорошее и подробное объяснение каждого шага "
   ]
  },
  {
   "cell_type": "markdown",
   "id": "43bb7bd5",
   "metadata": {},
   "source": [
    "СОВЕТ: Т.к бутстрэп считается долго, то для дз отлаживаем код на малом количестве итераций, а результаты уже показываем на 1000+"
   ]
  },
  {
   "cell_type": "markdown",
   "id": "efad591c",
   "metadata": {},
   "source": [
    "## ДЗ-1.1"
   ]
  },
  {
   "cell_type": "code",
   "execution_count": 9,
   "id": "4f896383",
   "metadata": {},
   "outputs": [],
   "source": [
    "interactions = pd.read_csv('interactions.csv')"
   ]
  },
  {
   "cell_type": "code",
   "execution_count": 10,
   "id": "7f9d88f2",
   "metadata": {},
   "outputs": [],
   "source": [
    "interactions['last_watch_dt'] = pd.to_datetime(interactions['last_watch_dt']).map(lambda x: x.date())\n",
    "interactions['user_id'] = interactions['user_id'].astype(str)"
   ]
  },
  {
   "cell_type": "code",
   "execution_count": 11,
   "id": "b75952d5",
   "metadata": {},
   "outputs": [
    {
     "name": "stdout",
     "output_type": "stream",
     "text": [
      "2021-03-13 2021-08-22\n"
     ]
    }
   ],
   "source": [
    "max_date = interactions['last_watch_dt'].max()\n",
    "min_date = interactions['last_watch_dt'].min()\n",
    "print(min_date, max_date)"
   ]
  },
  {
   "cell_type": "code",
   "execution_count": 12,
   "id": "2064a20a",
   "metadata": {},
   "outputs": [],
   "source": [
    "week2 = interactions[interactions['last_watch_dt'] >= max_date - datetime.timedelta(days=14)]\n",
    "week2 = week2.groupby('user_id', as_index=False).agg({'total_dur': sum})"
   ]
  },
  {
   "cell_type": "code",
   "execution_count": 13,
   "id": "8a50cacd",
   "metadata": {},
   "outputs": [
    {
     "data": {
      "text/html": [
       "<div>\n",
       "<style scoped>\n",
       "    .dataframe tbody tr th:only-of-type {\n",
       "        vertical-align: middle;\n",
       "    }\n",
       "\n",
       "    .dataframe tbody tr th {\n",
       "        vertical-align: top;\n",
       "    }\n",
       "\n",
       "    .dataframe thead th {\n",
       "        text-align: right;\n",
       "    }\n",
       "</style>\n",
       "<table border=\"1\" class=\"dataframe\">\n",
       "  <thead>\n",
       "    <tr style=\"text-align: right;\">\n",
       "      <th></th>\n",
       "      <th>user_id</th>\n",
       "      <th>total_dur</th>\n",
       "    </tr>\n",
       "  </thead>\n",
       "  <tbody>\n",
       "    <tr>\n",
       "      <th>0</th>\n",
       "      <td>1</td>\n",
       "      <td>21172</td>\n",
       "    </tr>\n",
       "    <tr>\n",
       "      <th>1</th>\n",
       "      <td>1000</td>\n",
       "      <td>10744</td>\n",
       "    </tr>\n",
       "    <tr>\n",
       "      <th>2</th>\n",
       "      <td>1000000</td>\n",
       "      <td>33776</td>\n",
       "    </tr>\n",
       "  </tbody>\n",
       "</table>\n",
       "</div>"
      ],
      "text/plain": [
       "   user_id  total_dur\n",
       "0  1        21172    \n",
       "1  1000     10744    \n",
       "2  1000000  33776    "
      ]
     },
     "execution_count": 13,
     "metadata": {},
     "output_type": "execute_result"
    }
   ],
   "source": [
    "week2.head(3)"
   ]
  },
  {
   "cell_type": "code",
   "execution_count": 14,
   "id": "1f5ffcc0",
   "metadata": {},
   "outputs": [
    {
     "data": {
      "text/plain": [
       "9731801"
      ]
     },
     "execution_count": 14,
     "metadata": {},
     "output_type": "execute_result"
    }
   ],
   "source": [
    "max(week2['total_dur'])"
   ]
  },
  {
   "cell_type": "code",
   "execution_count": 15,
   "id": "31e654cb",
   "metadata": {},
   "outputs": [],
   "source": [
    "###Правило 3х сигм, убираем выбросы"
   ]
  },
  {
   "cell_type": "code",
   "execution_count": 16,
   "id": "3d9b199c",
   "metadata": {},
   "outputs": [
    {
     "name": "stdout",
     "output_type": "stream",
     "text": [
      "(279129, 2)\n",
      "(275616, 2)\n"
     ]
    }
   ],
   "source": [
    "print(week2.shape)\n",
    "week2 = week2[(week2['total_dur'] < week2['total_dur'].std() * 3)]\n",
    "print(week2.shape)"
   ]
  },
  {
   "cell_type": "code",
   "execution_count": 17,
   "id": "812c8e9b",
   "metadata": {},
   "outputs": [
    {
     "data": {
      "image/png": "[encoded data removed]",
      "text/plain": [
       "<Figure size 700x700 with 1 Axes>"
      ]
     },
     "metadata": {},
     "output_type": "display_data"
    }
   ],
   "source": [
    "week2['total_dur'].hist(bins=100, figsize=(7,7))\n",
    "plt.ylim([0, 100_000])\n",
    "plt.grid(False)"
   ]
  },
  {
   "cell_type": "markdown",
   "id": "d7d2de68",
   "metadata": {},
   "source": [
    "### ДЗ 1.1.1"
   ]
  },
  {
   "cell_type": "code",
   "execution_count": 18,
   "id": "2b1773a5",
   "metadata": {},
   "outputs": [
    {
     "name": "stderr",
     "output_type": "stream",
     "text": [
      "100%|█████████████████████████████████████| 1000/1000 [2:00:18<00:00,  7.22s/it]"
     ]
    },
    {
     "name": "stdout",
     "output_type": "stream",
     "text": [
      "significance: 5.3%\n"
     ]
    },
    {
     "name": "stderr",
     "output_type": "stream",
     "text": [
      "\n"
     ]
    }
   ],
   "source": [
    "correctness = []\n",
    "values = []\n",
    "\n",
    "for i in tqdm(range(1000)): # в дз используем 1000 итераций \n",
    "    \n",
    "    new_df = groups_splitter(week2.copy(), columns=['user_id', 'total_dur', 'group'], user_salt=salt_generator()).drop_duplicates()\n",
    "\n",
    "    \n",
    "    vec_a = new_df[(new_df['group'] == 'A')]['total_dur']\n",
    "    vec_b = new_df[(new_df['group'] == 'B')]['total_dur']\n",
    "    \n",
    "    #bootstrap\n",
    "    sample_a_mean = calc_bootstrap_mean(vec_a, size=1000) # на бутстрэпе считаем средние для вектора\n",
    "    sample_b_mean = calc_bootstrap_mean(vec_b, size=1000)\n",
    "    values.append(sample_a_mean - sample_b_mean)\n",
    "    \n",
    "    left_side, right_side = np.percentile(sample_a_mean - sample_b_mean, \n",
    "                                                  [100 * 0.05 / 2., 100 * (1 - 0.05 / 2.)]) # считаем 95% доверительный интервал для разницы средних\n",
    "    \n",
    "    correctness.append(not left_side <= 0 <= right_side)\n",
    "    \n",
    "    test_correctness = collections.Counter(correctness)\n",
    "    \n",
    "print(f'significance: {test_correctness[1]/(test_correctness[1] + test_correctness[0])*100}%')"
   ]
  },
  {
   "cell_type": "markdown",
   "id": "9477aa23",
   "metadata": {},
   "source": [
    "Корректность на бутстрапе 5.3%, в принципе неплохо для нашего уровня значимости. Если интерпретировать, то в с веротяностью 0.05 у нас сработает ошибка первого рода(отклоняем верную H_0)."
   ]
  },
  {
   "cell_type": "markdown",
   "id": "b583c409",
   "metadata": {},
   "source": [
    "### ДЗ 1.1.2"
   ]
  },
  {
   "cell_type": "code",
   "execution_count": 19,
   "id": "a6f98031",
   "metadata": {},
   "outputs": [
    {
     "name": "stderr",
     "output_type": "stream",
     "text": [
      "100%|█████████████████████████████████████| 1000/1000 [3:47:14<00:00, 13.63s/it]"
     ]
    },
    {
     "name": "stdout",
     "output_type": "stream",
     "text": [
      "power(1%) : 36.6%\n",
      "power(3%) : 99.2%\n",
      "power(5%) : 100.0%\n"
     ]
    },
    {
     "name": "stderr",
     "output_type": "stream",
     "text": [
      "\n"
     ]
    }
   ],
   "source": [
    "correctness_1_persent = []\n",
    "correctness_3_persent = []\n",
    "correctness_5_persent = []\n",
    "\n",
    "values_1_persent = []\n",
    "values_3_persent = []\n",
    "values_5_persent = []\n",
    "\n",
    "for i in tqdm(range(1000)): # в дз используем 1000 итераций \n",
    "    \n",
    "    new_df = groups_splitter(week2.copy(), columns=['user_id', 'total_dur', 'group'], user_salt=salt_generator()).drop_duplicates()\n",
    "\n",
    "    \n",
    "    vec_a = new_df[(new_df['group'] == 'A')]['total_dur']\n",
    "    vec_b = new_df[(new_df['group'] == 'B')]['total_dur']\n",
    "    # умножим значения группы B на 1,3,5 процентов соответственно\n",
    "    # и округлим, тк изначально у нас время целочисленное\n",
    "    vec_b_1 = np.round(vec_b*1.01).astype(int)\n",
    "    vec_b_3 = np.round(vec_b*1.03).astype(int)\n",
    "    vec_b_5 = np.round(vec_b*1.05).astype(int)\n",
    "    \n",
    "    #bootstrap\n",
    "    sample_a_mean = calc_bootstrap_mean(vec_a, size=1000) # на бутстрэпе считаем средние для вектора\n",
    "    sample_b_1_mean = calc_bootstrap_mean(vec_b_1, size=1000)\n",
    "    sample_b_3_mean = calc_bootstrap_mean(vec_b_3, size=1000)\n",
    "    sample_b_5_mean = calc_bootstrap_mean(vec_b_5, size=1000)\n",
    "    \n",
    "    values_1_persent.append(sample_a_mean - sample_b_1_mean)\n",
    "    values_3_persent.append(sample_a_mean - sample_b_3_mean)\n",
    "    values_5_persent.append(sample_a_mean - sample_b_5_mean)\n",
    "    \n",
    "    left_side_1_p, right_side_1_p = np.percentile(sample_a_mean - sample_b_1_mean, \n",
    "                                                  [100 * 0.05 / 2., 100 * (1 - 0.05 / 2.)]) # считаем 95% доверительный интервал для разницы средних\n",
    "    \n",
    "    left_side_3_p, right_side_3_p = np.percentile(sample_a_mean - sample_b_3_mean, \n",
    "                                                  [100 * 0.05 / 2., 100 * (1 - 0.05 / 2.)])\n",
    "    \n",
    "    left_side_5_p, right_side_5_p = np.percentile(sample_a_mean - sample_b_5_mean, \n",
    "                                                  [100 * 0.05 / 2., 100 * (1 - 0.05 / 2.)])\n",
    "    \n",
    "    correctness_1_persent.append(not left_side_1_p <= 0 <= right_side_1_p)\n",
    "    correctness_3_persent.append(not left_side_3_p <= 0 <= right_side_3_p)\n",
    "    correctness_5_persent.append(not left_side_5_p <= 0 <= right_side_5_p)\n",
    "    \n",
    "    test_correctness_1_persent = collections.Counter(correctness_1_persent)\n",
    "    test_correctness_3_persent = collections.Counter(correctness_3_persent)\n",
    "    test_correctness_5_persent = collections.Counter(correctness_5_persent)\n",
    "    \n",
    "print(f'power(1%) : {test_correctness_1_persent[1]/(test_correctness_1_persent[1] + test_correctness_1_persent[0])*100}%')\n",
    "print(f'power(3%) : {test_correctness_3_persent[1]/(test_correctness_3_persent[1] + test_correctness_3_persent[0])*100}%')\n",
    "print(f'power(5%) : {test_correctness_5_persent[1]/(test_correctness_5_persent[1] + test_correctness_5_persent[0])*100}%')"
   ]
  },
  {
   "cell_type": "markdown",
   "id": "883f31b6",
   "metadata": {},
   "source": [
    "Полученная мощность равна 33%. Интерпретация: С 33% вероятностью мы найдем отличия между группами A и B"
   ]
  },
  {
   "cell_type": "markdown",
   "id": "0a6a3ac4",
   "metadata": {},
   "source": [
    "### ДЗ 1.1.3"
   ]
  },
  {
   "cell_type": "markdown",
   "id": "19ee9d95",
   "metadata": {},
   "source": [
    "Мы не можем использовать стандартную формулу MDE, тк вектор значений не распределен нормально. В примере на семинаре, выборка генерируется случайно. Предлагаю воспользоваться бутстрапом для генерации нормальнораспределенной выборки по ЦПТ. Считаю, что 100_000 средних значений, достаточно, чтобы говорить о больших числах."
   ]
  },
  {
   "cell_type": "code",
   "execution_count": 15,
   "id": "356939bf",
   "metadata": {},
   "outputs": [
    {
     "name": "stderr",
     "output_type": "stream",
     "text": [
      "100%|█████████████████████████████████████████| 100/100 [11:41<00:00,  7.01s/it]\n"
     ]
    }
   ],
   "source": [
    "result = []\n",
    "for i in tqdm(range(100)):\n",
    "    \n",
    "    sample_mean = calc_bootstrap_mean(week2['total_dur'], size=1000)\n",
    "    result.extend(sample_mean)"
   ]
  },
  {
   "cell_type": "markdown",
   "id": "3b09ed55",
   "metadata": {},
   "source": [
    "Получили массив длинной 100_000, каждое значение это среднее рандомной выборки длиной в 1000 значений."
   ]
  },
  {
   "cell_type": "code",
   "execution_count": 83,
   "id": "5c285b4e",
   "metadata": {},
   "outputs": [
    {
     "data": {
      "text/plain": [
       "100000"
      ]
     },
     "execution_count": 83,
     "metadata": {},
     "output_type": "execute_result"
    }
   ],
   "source": [
    "len(result)"
   ]
  },
  {
   "cell_type": "code",
   "execution_count": 85,
   "id": "c152cc62",
   "metadata": {},
   "outputs": [
    {
     "data": {
      "text/plain": [
       "16442.210426825728"
      ]
     },
     "execution_count": 85,
     "metadata": {},
     "output_type": "execute_result"
    }
   ],
   "source": [
    "max(result)"
   ]
  },
  {
   "cell_type": "code",
   "execution_count": 16,
   "id": "a5d711ba",
   "metadata": {},
   "outputs": [
    {
     "data": {
      "image/png": "[encoded data removed]",
      "text/plain": [
       "<Figure size 700x700 with 1 Axes>"
      ]
     },
     "metadata": {},
     "output_type": "display_data"
    }
   ],
   "source": [
    "pd.DataFrame(result).hist(bins=100, figsize=(7,7))\n",
    "plt.ylim([0, 5_000])\n",
    "plt.grid(False)"
   ]
  },
  {
   "cell_type": "markdown",
   "id": "abfe12e3",
   "metadata": {},
   "source": [
    "Считаю, что данное распределение можно считать нормальным или около нормальным."
   ]
  },
  {
   "cell_type": "code",
   "execution_count": 17,
   "id": "e0da0906",
   "metadata": {},
   "outputs": [],
   "source": [
    "result = pd.DataFrame(result)"
   ]
  },
  {
   "cell_type": "code",
   "execution_count": 47,
   "id": "d98d9fb1",
   "metadata": {},
   "outputs": [
    {
     "data": {
      "text/plain": [
       "0.3870184096123142"
      ]
     },
     "execution_count": 47,
     "metadata": {},
     "output_type": "execute_result"
    }
   ],
   "source": [
    "get_mde(week2['total_dur'], alpha=0.045, beta=0.8)"
   ]
  },
  {
   "cell_type": "markdown",
   "id": "0248dbac",
   "metadata": {},
   "source": [
    "Немного странно, что мы берем параметры альфа и бета для не нормального распределения и подставляем их в mde с нормальным распределением."
   ]
  },
  {
   "cell_type": "code",
   "execution_count": 29,
   "id": "5ece79e4",
   "metadata": {},
   "outputs": [
    {
     "data": {
      "text/plain": [
       "0    0.002576\n",
       "dtype: float64"
      ]
     },
     "execution_count": 29,
     "metadata": {},
     "output_type": "execute_result"
    }
   ],
   "source": [
    "get_mde(result, alpha=0.045, beta=0.33)"
   ]
  },
  {
   "cell_type": "markdown",
   "id": "1a2a2ca0",
   "metadata": {},
   "source": [
    "Подсмотрено в Дискорде"
   ]
  },
  {
   "cell_type": "code",
   "execution_count": 20,
   "id": "c029c4bb",
   "metadata": {},
   "outputs": [],
   "source": [
    "powers = [0.366, 0.992]\n",
    "effects = [1.01, 1.03]"
   ]
  },
  {
   "cell_type": "code",
   "execution_count": 25,
   "id": "00d29306",
   "metadata": {},
   "outputs": [],
   "source": [
    "k = (powers[1] - powers[0]) / (effects[1] - effects[0])\n",
    "b = powers[1] - effects[1] * k\n",
    "\n",
    "power_needed = 0.8\n",
    "mde = (power_needed - b) / k"
   ]
  },
  {
   "cell_type": "code",
   "execution_count": 26,
   "id": "8e5ded41",
   "metadata": {},
   "outputs": [
    {
     "data": {
      "text/plain": [
       "1.0238658146964856"
      ]
     },
     "execution_count": 26,
     "metadata": {},
     "output_type": "execute_result"
    }
   ],
   "source": [
    "mde"
   ]
  },
  {
   "cell_type": "markdown",
   "id": "36339a6a",
   "metadata": {},
   "source": [
    "## ДЗ 1.2"
   ]
  },
  {
   "cell_type": "markdown",
   "id": "7881babb",
   "metadata": {},
   "source": [
    "### ДЗ 1.2.1"
   ]
  },
  {
   "cell_type": "code",
   "execution_count": 28,
   "id": "d990a917",
   "metadata": {},
   "outputs": [],
   "source": [
    "res = week2.copy()"
   ]
  },
  {
   "cell_type": "markdown",
   "id": "f366a85a",
   "metadata": {},
   "source": [
    "### ДЗ 1.2.2"
   ]
  },
  {
   "cell_type": "markdown",
   "id": "d170d82b",
   "metadata": {},
   "source": [
    "Зануляем все значения меньше 500."
   ]
  },
  {
   "cell_type": "code",
   "execution_count": 29,
   "id": "ffc593e1",
   "metadata": {},
   "outputs": [
    {
     "data": {
      "text/plain": [
       "<Axes: >"
      ]
     },
     "execution_count": 29,
     "metadata": {},
     "output_type": "execute_result"
    },
    {
     "data": {
      "image/png": "[encoded data removed]",
      "text/plain": [
       "<Figure size 640x480 with 1 Axes>"
      ]
     },
     "metadata": {},
     "output_type": "display_data"
    }
   ],
   "source": [
    "res['total_dur'].where(res['total_dur'] <= 500, 0, inplace=True)\n",
    "res['total_dur'].hist(bins=10)"
   ]
  },
  {
   "cell_type": "markdown",
   "id": "6bb6301f",
   "metadata": {},
   "source": [
    "### ДЗ 1.2.3"
   ]
  },
  {
   "cell_type": "markdown",
   "id": "c635c739",
   "metadata": {},
   "source": [
    "Разбиваем на две группы"
   ]
  },
  {
   "cell_type": "code",
   "execution_count": 30,
   "id": "d3f953b4",
   "metadata": {},
   "outputs": [
    {
     "data": {
      "text/html": [
       "<div>\n",
       "<style scoped>\n",
       "    .dataframe tbody tr th:only-of-type {\n",
       "        vertical-align: middle;\n",
       "    }\n",
       "\n",
       "    .dataframe tbody tr th {\n",
       "        vertical-align: top;\n",
       "    }\n",
       "\n",
       "    .dataframe thead th {\n",
       "        text-align: right;\n",
       "    }\n",
       "</style>\n",
       "<table border=\"1\" class=\"dataframe\">\n",
       "  <thead>\n",
       "    <tr style=\"text-align: right;\">\n",
       "      <th></th>\n",
       "      <th>user_id</th>\n",
       "      <th>total_dur</th>\n",
       "      <th>group</th>\n",
       "    </tr>\n",
       "  </thead>\n",
       "  <tbody>\n",
       "    <tr>\n",
       "      <th>0</th>\n",
       "      <td>1</td>\n",
       "      <td>0</td>\n",
       "      <td>B</td>\n",
       "    </tr>\n",
       "    <tr>\n",
       "      <th>1</th>\n",
       "      <td>1000</td>\n",
       "      <td>0</td>\n",
       "      <td>B</td>\n",
       "    </tr>\n",
       "    <tr>\n",
       "      <th>2</th>\n",
       "      <td>1000000</td>\n",
       "      <td>0</td>\n",
       "      <td>B</td>\n",
       "    </tr>\n",
       "    <tr>\n",
       "      <th>3</th>\n",
       "      <td>1000001</td>\n",
       "      <td>52</td>\n",
       "      <td>B</td>\n",
       "    </tr>\n",
       "    <tr>\n",
       "      <th>4</th>\n",
       "      <td>1000003</td>\n",
       "      <td>0</td>\n",
       "      <td>A</td>\n",
       "    </tr>\n",
       "  </tbody>\n",
       "</table>\n",
       "</div>"
      ],
      "text/plain": [
       "   user_id  total_dur group\n",
       "0  1        0          B   \n",
       "1  1000     0          B   \n",
       "2  1000000  0          B   \n",
       "3  1000001  52         B   \n",
       "4  1000003  0          A   "
      ]
     },
     "execution_count": 30,
     "metadata": {},
     "output_type": "execute_result"
    }
   ],
   "source": [
    "res_group = groups_splitter(res, columns=['user_id', 'total_dur', 'group'], user_salt='kiontestmodel20210805')\n",
    "res_group.head()"
   ]
  },
  {
   "cell_type": "markdown",
   "id": "4909ee74",
   "metadata": {},
   "source": [
    "### ДЗ 1.2.4"
   ]
  },
  {
   "cell_type": "markdown",
   "id": "ef71764a",
   "metadata": {},
   "source": [
    "Находим 10% \"самых смотрящих\" из группы B и добавляем эффект в 2.5%"
   ]
  },
  {
   "cell_type": "code",
   "execution_count": 31,
   "id": "d50773c9",
   "metadata": {},
   "outputs": [
    {
     "data": {
      "text/plain": [
       "123476.0"
      ]
     },
     "execution_count": 31,
     "metadata": {},
     "output_type": "execute_result"
    }
   ],
   "source": [
    "np.round(len(res_group[res_group['group']=='B'])*0.9)"
   ]
  },
  {
   "cell_type": "code",
   "execution_count": 36,
   "id": "575bb3f7",
   "metadata": {},
   "outputs": [],
   "source": [
    "indexes = list(res_group[res_group['group']=='B'][\"total_dur\"].sort_values()[123476:].index)"
   ]
  },
  {
   "cell_type": "code",
   "execution_count": 37,
   "id": "8b52b5b6",
   "metadata": {},
   "outputs": [
    {
     "name": "stderr",
     "output_type": "stream",
     "text": [
      "/var/folders/k0/63_q54b92xq0jn878sr6yb3w80rd_w/T/ipykernel_10649/3453993183.py:2: SettingWithCopyWarning: \n",
      "A value is trying to be set on a copy of a slice from a DataFrame\n",
      "\n",
      "See the caveats in the documentation: https://pandas.pydata.org/pandas-docs/stable/user_guide/indexing.html#returning-a-view-versus-a-copy\n",
      "  res_group[\"total_dur\"][index] = np.round(res_group[\"total_dur\"][index]*1.025).astype(int)\n"
     ]
    }
   ],
   "source": [
    "for index in indexes:\n",
    "     res_group[\"total_dur\"][index] = np.round(res_group[\"total_dur\"][index]*1.025).astype(int)"
   ]
  },
  {
   "cell_type": "markdown",
   "id": "391e0558",
   "metadata": {},
   "source": [
    "### ДЗ 1.2.5"
   ]
  },
  {
   "cell_type": "markdown",
   "id": "b7796ae5",
   "metadata": {},
   "source": [
    "Используем критерий Манна — Уитни для оценки различий между двумя выборками "
   ]
  },
  {
   "cell_type": "code",
   "execution_count": 39,
   "id": "11a0e890",
   "metadata": {},
   "outputs": [
    {
     "name": "stdout",
     "output_type": "stream",
     "text": [
      "p_value = 0.21357563451472905\n"
     ]
    }
   ],
   "source": [
    "from scipy.stats import mannwhitneyu\n",
    "\n",
    "# проверим, как работает код критерия\n",
    "u, p = mannwhitneyu(res_group[res_group['group'] == 'A']['total_dur'].values,\n",
    "                    res_group[res_group['group'] == 'B']['total_dur'].values)\n",
    "\n",
    "print(f\"p_value = {p}\")"
   ]
  },
  {
   "cell_type": "markdown",
   "id": "5d8d73ba",
   "metadata": {},
   "source": [
    "Тк p_value превышает значение 0.05, мы отвергаем H_0, что выборки не различны между собой."
   ]
  },
  {
   "cell_type": "markdown",
   "id": "cbac91a9",
   "metadata": {},
   "source": [
    "Также можно сравнить средние"
   ]
  },
  {
   "cell_type": "code",
   "execution_count": 51,
   "id": "d9f30825",
   "metadata": {},
   "outputs": [
    {
     "name": "stdout",
     "output_type": "stream",
     "text": [
      "p-value = 0.9856430707876371\n"
     ]
    }
   ],
   "source": [
    "vec_a = res_group[(res_group['group'] == 'A')]['total_dur']\n",
    "vec_b = res_group[(res_group['group'] == 'B')]['total_dur']\n",
    "\n",
    "#bootstrap\n",
    "sample_a_mean = calc_bootstrap_mean(vec_a, size=1000) # на бутстрэпе считаем средние для вектора\n",
    "sample_b_mean = calc_bootstrap_mean(vec_b, size=1000)\n",
    "values.append(sample_a_mean - sample_b_mean)\n",
    "\n",
    "left_side, right_side = np.percentile(sample_a_mean - sample_b_mean, \n",
    "                                                  [100 * 0.05 / 2., 100 * (1 - 0.05 / 2.)]) # считаем 95% доверительный интервал для разницы средних\n",
    "p_value = get_p_value(values)\n",
    "print(f\"p-value = {p_value}\")"
   ]
  },
  {
   "cell_type": "markdown",
   "id": "6923f884",
   "metadata": {},
   "source": [
    "H_0 - отвергается, тк средние значения групп A и B, могут иметь статистические отличия"
   ]
  },
  {
   "cell_type": "code",
   "execution_count": 56,
   "id": "5007616b",
   "metadata": {},
   "outputs": [
    {
     "data": {
      "image/png": "[encoded data removed]",
      "text/plain": [
       "<Figure size 640x480 with 1 Axes>"
      ]
     },
     "metadata": {},
     "output_type": "display_data"
    }
   ],
   "source": [
    "plt.hist(sample_a_mean, alpha=0.5, label=\"группа A\");\n",
    "plt.hist(sample_b_mean, alpha=0.5, label=\"группа B\")\n",
    "plt.legend()\n",
    "plt.title(\"Распределение средних значений для сгенерированных выборок(bootstrap) для групп А и B\");"
   ]
  },
  {
   "cell_type": "code",
   "execution_count": null,
   "id": "a143a587",
   "metadata": {},
   "outputs": [],
   "source": []
  }
 ],
 "metadata": {
  "kernelspec": {
   "display_name": "Python 3 (ipykernel)",
   "language": "python",
   "name": "python3"
  },
  "language_info": {
   "codemirror_mode": {
    "name": "ipython",
    "version": 3
   },
   "file_extension": ".py",
   "mimetype": "text/x-python",
   "name": "python",
   "nbconvert_exporter": "python",
   "pygments_lexer": "ipython3",
   "version": "3.10.9"
  }
 },
 "nbformat": 4,
 "nbformat_minor": 5
}
