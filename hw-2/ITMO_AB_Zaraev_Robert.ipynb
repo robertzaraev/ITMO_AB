{
 "cells": [
  {
   "cell_type": "code",
   "execution_count": 1,
   "id": "9355dc99",
   "metadata": {},
   "outputs": [],
   "source": [
    "import numpy as np\n",
    "import scipy\n",
    "import matplotlib.pyplot as plt\n",
    "import scipy.stats as stats\n",
    "import statsmodels\n",
    "import statsmodels.sandbox.stats.multicomp\n",
    "import pandas as pd\n",
    "from statsmodels.stats.weightstats import ztest\n",
    "\n",
    "import matplotlib.pyplot as plt\n",
    "import seaborn as sns\n",
    "\n",
    "from tqdm import tqdm\n",
    "from sklearn.utils import shuffle\n",
    "import hashlib\n",
    "from base64 import b64encode\n",
    "import collections\n",
    "import datetime"
   ]
  },
  {
   "cell_type": "code",
   "execution_count": 9,
   "id": "142aaff1",
   "metadata": {},
   "outputs": [],
   "source": [
    "def rank_transformation(df_a, df_b, metric):\n",
    "    df = pd.concat([df_a, df_b], axis = 0)\n",
    "    df['rank'] = df[metric].rank()\n",
    "    \n",
    "    return df"
   ]
  },
  {
   "cell_type": "code",
   "execution_count": 207,
   "id": "d10d55f2",
   "metadata": {},
   "outputs": [],
   "source": [
    "def salt_generator(salt=None):\n",
    "    import os\n",
    "    from base64 import b64encode # кодирует байтоподобный объект с помощью Base64 и возвращает закодированную байтовую строку.\n",
    "    salt = os.urandom(8)\n",
    "    \n",
    "    return b64encode(salt).decode('ascii')"
   ]
  },
  {
   "cell_type": "code",
   "execution_count": 208,
   "id": "2f871eb7",
   "metadata": {},
   "outputs": [],
   "source": [
    "def groups_splitter(df, user_salt=None):\n",
    "    \n",
    "    if user_salt == None:\n",
    "        salt = salt_generator()\n",
    "    else:\n",
    "        salt = user_salt\n",
    "    \n",
    "    df['hash'] = ((df['user_id'].astype(str)) + '#' + salt).apply(lambda x: hashlib.sha256(x.encode('utf-8')).hexdigest())\n",
    "\n",
    "    df['group'] = ((df['hash'].str.slice(start=-6).apply(int, base=16) % 2).map(lambda x: 'A' if x == 0 else 'B'))\n",
    "\n",
    "    return df[['user_id', 'group']].drop_duplicates()"
   ]
  },
  {
   "cell_type": "markdown",
   "id": "c131ef35",
   "metadata": {},
   "source": [
    "## Применить ранговую трансформацию (потом t-test) и сравнить с результатами по Манну-Уитни на метрике cart_added_cnt"
   ]
  },
  {
   "cell_type": "code",
   "execution_count": 25,
   "id": "64771152",
   "metadata": {},
   "outputs": [],
   "source": [
    "shop_metrics_new = pd.read_csv('shop_df_metrics_dec.csv').drop(columns='Unnamed: 0')\n",
    "shop_metrics_old = pd.read_csv('shop_df_metrics_sept.csv').drop(columns='Unnamed: 0')"
   ]
  },
  {
   "cell_type": "code",
   "execution_count": 5,
   "id": "c688176a",
   "metadata": {},
   "outputs": [
    {
     "data": {
      "text/html": [
       "<div>\n",
       "<style scoped>\n",
       "    .dataframe tbody tr th:only-of-type {\n",
       "        vertical-align: middle;\n",
       "    }\n",
       "\n",
       "    .dataframe tbody tr th {\n",
       "        vertical-align: top;\n",
       "    }\n",
       "\n",
       "    .dataframe thead th {\n",
       "        text-align: right;\n",
       "    }\n",
       "</style>\n",
       "<table border=\"1\" class=\"dataframe\">\n",
       "  <thead>\n",
       "    <tr style=\"text-align: right;\">\n",
       "      <th></th>\n",
       "      <th>user_id</th>\n",
       "      <th>group</th>\n",
       "      <th>is_viewed</th>\n",
       "      <th>products_viewed_cnt</th>\n",
       "      <th>price_sum</th>\n",
       "      <th>is_cart_added</th>\n",
       "      <th>is_purchased</th>\n",
       "      <th>cart_added_cnt</th>\n",
       "      <th>purchased_cnt</th>\n",
       "    </tr>\n",
       "  </thead>\n",
       "  <tbody>\n",
       "    <tr>\n",
       "      <th>0</th>\n",
       "      <td>1515915625353230683</td>\n",
       "      <td>A</td>\n",
       "      <td>1</td>\n",
       "      <td>1</td>\n",
       "      <td>339.79</td>\n",
       "      <td>0.0</td>\n",
       "      <td>0.0</td>\n",
       "      <td>0</td>\n",
       "      <td>0</td>\n",
       "    </tr>\n",
       "    <tr>\n",
       "      <th>1</th>\n",
       "      <td>1515915625353234047</td>\n",
       "      <td>A</td>\n",
       "      <td>1</td>\n",
       "      <td>9</td>\n",
       "      <td>861.86</td>\n",
       "      <td>0.0</td>\n",
       "      <td>0.0</td>\n",
       "      <td>0</td>\n",
       "      <td>0</td>\n",
       "    </tr>\n",
       "    <tr>\n",
       "      <th>2</th>\n",
       "      <td>1515915625353236157</td>\n",
       "      <td>A</td>\n",
       "      <td>1</td>\n",
       "      <td>4</td>\n",
       "      <td>179.60</td>\n",
       "      <td>0.0</td>\n",
       "      <td>0.0</td>\n",
       "      <td>0</td>\n",
       "      <td>0</td>\n",
       "    </tr>\n",
       "  </tbody>\n",
       "</table>\n",
       "</div>"
      ],
      "text/plain": [
       "               user_id group  is_viewed  products_viewed_cnt  price_sum  \\\n",
       "0  1515915625353230683     A          1                    1     339.79   \n",
       "1  1515915625353234047     A          1                    9     861.86   \n",
       "2  1515915625353236157     A          1                    4     179.60   \n",
       "\n",
       "   is_cart_added  is_purchased  cart_added_cnt  purchased_cnt  \n",
       "0            0.0           0.0               0              0  \n",
       "1            0.0           0.0               0              0  \n",
       "2            0.0           0.0               0              0  "
      ]
     },
     "execution_count": 5,
     "metadata": {},
     "output_type": "execute_result"
    }
   ],
   "source": [
    "shop_metrics_new.head(3)"
   ]
  },
  {
   "cell_type": "code",
   "execution_count": 8,
   "id": "d20d85ce",
   "metadata": {},
   "outputs": [
    {
     "data": {
      "text/plain": [
       "<Axes: xlabel='cart_added_cnt', ylabel='Count'>"
      ]
     },
     "execution_count": 8,
     "metadata": {},
     "output_type": "execute_result"
    },
    {
     "data": {
      "image/png": "[encoded data removed]",
      "text/plain": [
       "<Figure size 640x480 with 1 Axes>"
      ]
     },
     "metadata": {},
     "output_type": "display_data"
    }
   ],
   "source": [
    "sns.histplot(data=shop_metrics_new, x='cart_added_cnt', bins=100)"
   ]
  },
  {
   "cell_type": "code",
   "execution_count": 10,
   "id": "90e2d524",
   "metadata": {},
   "outputs": [
    {
     "data": {
      "text/html": [
       "<div>\n",
       "<style scoped>\n",
       "    .dataframe tbody tr th:only-of-type {\n",
       "        vertical-align: middle;\n",
       "    }\n",
       "\n",
       "    .dataframe tbody tr th {\n",
       "        vertical-align: top;\n",
       "    }\n",
       "\n",
       "    .dataframe thead th {\n",
       "        text-align: right;\n",
       "    }\n",
       "</style>\n",
       "<table border=\"1\" class=\"dataframe\">\n",
       "  <thead>\n",
       "    <tr style=\"text-align: right;\">\n",
       "      <th></th>\n",
       "      <th>user_id</th>\n",
       "      <th>group</th>\n",
       "      <th>is_viewed</th>\n",
       "      <th>products_viewed_cnt</th>\n",
       "      <th>price_sum</th>\n",
       "      <th>is_cart_added</th>\n",
       "      <th>is_purchased</th>\n",
       "      <th>cart_added_cnt</th>\n",
       "      <th>purchased_cnt</th>\n",
       "      <th>rank</th>\n",
       "    </tr>\n",
       "  </thead>\n",
       "  <tbody>\n",
       "    <tr>\n",
       "      <th>0</th>\n",
       "      <td>1515915625353230683</td>\n",
       "      <td>A</td>\n",
       "      <td>1</td>\n",
       "      <td>1</td>\n",
       "      <td>339.79</td>\n",
       "      <td>0.0</td>\n",
       "      <td>0.0</td>\n",
       "      <td>0</td>\n",
       "      <td>0</td>\n",
       "      <td>100038.5</td>\n",
       "    </tr>\n",
       "    <tr>\n",
       "      <th>1</th>\n",
       "      <td>1515915625353234047</td>\n",
       "      <td>A</td>\n",
       "      <td>1</td>\n",
       "      <td>9</td>\n",
       "      <td>861.86</td>\n",
       "      <td>0.0</td>\n",
       "      <td>0.0</td>\n",
       "      <td>0</td>\n",
       "      <td>0</td>\n",
       "      <td>100038.5</td>\n",
       "    </tr>\n",
       "    <tr>\n",
       "      <th>2</th>\n",
       "      <td>1515915625353236157</td>\n",
       "      <td>A</td>\n",
       "      <td>1</td>\n",
       "      <td>4</td>\n",
       "      <td>179.60</td>\n",
       "      <td>0.0</td>\n",
       "      <td>0.0</td>\n",
       "      <td>0</td>\n",
       "      <td>0</td>\n",
       "      <td>100038.5</td>\n",
       "    </tr>\n",
       "    <tr>\n",
       "      <th>5</th>\n",
       "      <td>1515915625353400724</td>\n",
       "      <td>A</td>\n",
       "      <td>1</td>\n",
       "      <td>2</td>\n",
       "      <td>103.33</td>\n",
       "      <td>0.0</td>\n",
       "      <td>0.0</td>\n",
       "      <td>0</td>\n",
       "      <td>0</td>\n",
       "      <td>100038.5</td>\n",
       "    </tr>\n",
       "    <tr>\n",
       "      <th>7</th>\n",
       "      <td>1515915625353416040</td>\n",
       "      <td>A</td>\n",
       "      <td>1</td>\n",
       "      <td>13</td>\n",
       "      <td>1861.21</td>\n",
       "      <td>0.0</td>\n",
       "      <td>0.0</td>\n",
       "      <td>0</td>\n",
       "      <td>0</td>\n",
       "      <td>100038.5</td>\n",
       "    </tr>\n",
       "    <tr>\n",
       "      <th>...</th>\n",
       "      <td>...</td>\n",
       "      <td>...</td>\n",
       "      <td>...</td>\n",
       "      <td>...</td>\n",
       "      <td>...</td>\n",
       "      <td>...</td>\n",
       "      <td>...</td>\n",
       "      <td>...</td>\n",
       "      <td>...</td>\n",
       "      <td>...</td>\n",
       "    </tr>\n",
       "    <tr>\n",
       "      <th>222516</th>\n",
       "      <td>1515915625611023671</td>\n",
       "      <td>B</td>\n",
       "      <td>1</td>\n",
       "      <td>1</td>\n",
       "      <td>32.22</td>\n",
       "      <td>0.0</td>\n",
       "      <td>0.0</td>\n",
       "      <td>0</td>\n",
       "      <td>0</td>\n",
       "      <td>100038.5</td>\n",
       "    </tr>\n",
       "    <tr>\n",
       "      <th>222517</th>\n",
       "      <td>1515915625611023730</td>\n",
       "      <td>B</td>\n",
       "      <td>1</td>\n",
       "      <td>1</td>\n",
       "      <td>219.94</td>\n",
       "      <td>0.0</td>\n",
       "      <td>0.0</td>\n",
       "      <td>0</td>\n",
       "      <td>0</td>\n",
       "      <td>100038.5</td>\n",
       "    </tr>\n",
       "    <tr>\n",
       "      <th>222518</th>\n",
       "      <td>1515915625611024014</td>\n",
       "      <td>B</td>\n",
       "      <td>1</td>\n",
       "      <td>1</td>\n",
       "      <td>80.03</td>\n",
       "      <td>0.0</td>\n",
       "      <td>0.0</td>\n",
       "      <td>0</td>\n",
       "      <td>0</td>\n",
       "      <td>100038.5</td>\n",
       "    </tr>\n",
       "    <tr>\n",
       "      <th>222519</th>\n",
       "      <td>1515915625611024020</td>\n",
       "      <td>B</td>\n",
       "      <td>1</td>\n",
       "      <td>1</td>\n",
       "      <td>64.92</td>\n",
       "      <td>0.0</td>\n",
       "      <td>0.0</td>\n",
       "      <td>0</td>\n",
       "      <td>0</td>\n",
       "      <td>100038.5</td>\n",
       "    </tr>\n",
       "    <tr>\n",
       "      <th>222520</th>\n",
       "      <td>1515915625611024030</td>\n",
       "      <td>B</td>\n",
       "      <td>1</td>\n",
       "      <td>1</td>\n",
       "      <td>10.16</td>\n",
       "      <td>0.0</td>\n",
       "      <td>0.0</td>\n",
       "      <td>0</td>\n",
       "      <td>0</td>\n",
       "      <td>100038.5</td>\n",
       "    </tr>\n",
       "  </tbody>\n",
       "</table>\n",
       "<p>222521 rows × 10 columns</p>\n",
       "</div>"
      ],
      "text/plain": [
       "                    user_id group  is_viewed  products_viewed_cnt  price_sum  \\\n",
       "0       1515915625353230683     A          1                    1     339.79   \n",
       "1       1515915625353234047     A          1                    9     861.86   \n",
       "2       1515915625353236157     A          1                    4     179.60   \n",
       "5       1515915625353400724     A          1                    2     103.33   \n",
       "7       1515915625353416040     A          1                   13    1861.21   \n",
       "...                     ...   ...        ...                  ...        ...   \n",
       "222516  1515915625611023671     B          1                    1      32.22   \n",
       "222517  1515915625611023730     B          1                    1     219.94   \n",
       "222518  1515915625611024014     B          1                    1      80.03   \n",
       "222519  1515915625611024020     B          1                    1      64.92   \n",
       "222520  1515915625611024030     B          1                    1      10.16   \n",
       "\n",
       "        is_cart_added  is_purchased  cart_added_cnt  purchased_cnt      rank  \n",
       "0                 0.0           0.0               0              0  100038.5  \n",
       "1                 0.0           0.0               0              0  100038.5  \n",
       "2                 0.0           0.0               0              0  100038.5  \n",
       "5                 0.0           0.0               0              0  100038.5  \n",
       "7                 0.0           0.0               0              0  100038.5  \n",
       "...               ...           ...             ...            ...       ...  \n",
       "222516            0.0           0.0               0              0  100038.5  \n",
       "222517            0.0           0.0               0              0  100038.5  \n",
       "222518            0.0           0.0               0              0  100038.5  \n",
       "222519            0.0           0.0               0              0  100038.5  \n",
       "222520            0.0           0.0               0              0  100038.5  \n",
       "\n",
       "[222521 rows x 10 columns]"
      ]
     },
     "execution_count": 10,
     "metadata": {},
     "output_type": "execute_result"
    }
   ],
   "source": [
    "ranked = rank_transformation(shop_metrics_new[shop_metrics_new.group == 'A'], \n",
    "                             shop_metrics_new[shop_metrics_new.group == 'B'], 'cart_added_cnt')\n",
    "ranked"
   ]
  },
  {
   "cell_type": "code",
   "execution_count": 15,
   "id": "c3606ff0",
   "metadata": {},
   "outputs": [
    {
     "data": {
      "text/plain": [
       "<Axes: xlabel='rank', ylabel='Count'>"
      ]
     },
     "execution_count": 15,
     "metadata": {},
     "output_type": "execute_result"
    },
    {
     "data": {
      "image/png": "[encoded data removed]",
      "text/plain": [
       "<Figure size 640x480 with 1 Axes>"
      ]
     },
     "metadata": {},
     "output_type": "display_data"
    }
   ],
   "source": [
    "sns.histplot(data=ranked, x='rank', bins=100)"
   ]
  },
  {
   "cell_type": "code",
   "execution_count": 12,
   "id": "41cf59b4",
   "metadata": {},
   "outputs": [
    {
     "name": "stdout",
     "output_type": "stream",
     "text": [
      "111170.45633348604 111351.6421897482 0.16298022175842064\n"
     ]
    }
   ],
   "source": [
    "print(ranked[ranked.group == 'A']['rank'].mean(),\n",
    "      ranked[ranked.group == 'B']['rank'].mean(), \n",
    "      ((ranked[ranked.group == 'B']['rank'].mean() - ranked[ranked.group == 'A']['rank'].mean()) / \n",
    "       ranked[ranked.group == 'A']['rank'].mean()*100))"
   ]
  },
  {
   "cell_type": "markdown",
   "id": "1fce9480",
   "metadata": {},
   "source": [
    "Берем пороговое значение в 5%"
   ]
  },
  {
   "cell_type": "markdown",
   "id": "07157b0a",
   "metadata": {},
   "source": [
    "H0 - среднее каждой выборки равны"
   ]
  },
  {
   "cell_type": "code",
   "execution_count": 13,
   "id": "48542615",
   "metadata": {},
   "outputs": [
    {
     "data": {
      "text/plain": [
       "Ttest_indResult(statistic=-1.2743727811526857, pvalue=0.20253266477504916)"
      ]
     },
     "execution_count": 13,
     "metadata": {},
     "output_type": "execute_result"
    }
   ],
   "source": [
    "stats.ttest_ind(ranked[ranked.group == 'A']['rank'], ranked[ranked.group == 'B']['rank'])"
   ]
  },
  {
   "cell_type": "code",
   "execution_count": 14,
   "id": "9c36708f",
   "metadata": {},
   "outputs": [
    {
     "data": {
      "text/plain": [
       "MannwhitneyuResult(statistic=6179368188.5, pvalue=0.2025319893087626)"
      ]
     },
     "execution_count": 14,
     "metadata": {},
     "output_type": "execute_result"
    }
   ],
   "source": [
    "stats.mannwhitneyu(ranked[ranked.group == 'A']['rank'], ranked[ranked.group == 'B']['rank'])"
   ]
  },
  {
   "cell_type": "markdown",
   "id": "1a5f8659",
   "metadata": {},
   "source": [
    "#### Вывод: Различий между выборками скорее всего нет, оба критерия показывают примерно одинаковые значения"
   ]
  },
  {
   "cell_type": "markdown",
   "id": "0850c2c5",
   "metadata": {},
   "source": [
    "## Реализовать cuped-трансформацию и сравнить мощность t-критерия на:\n"
   ]
  },
  {
   "cell_type": "markdown",
   "id": "e7f954c5",
   "metadata": {},
   "source": [
    "### Обычной метрике cart_added_cnt"
   ]
  },
  {
   "cell_type": "code",
   "execution_count": 61,
   "id": "cf657868",
   "metadata": {},
   "outputs": [],
   "source": [
    "def cuped_transform(df, metrics):\n",
    "\n",
    "    new_columns = [str(m+'_cuped') for m in metrics]\n",
    "    df[new_columns] = pd.DataFrame([[0] * len(new_columns)], index=df.index)\n",
    "\n",
    "    df_mini = df.fillna(0)\n",
    "    for m in metrics:\n",
    "        covariate_column = str(m+'_covariate')\n",
    "        cuped_column = str(m+'_cuped')\n",
    "        mean_covariate = df_mini[covariate_column].mean()\n",
    "\n",
    "        theta = (df_mini[m].cov(df_mini[covariate_column]))/(df_mini.loc[:,covariate_column].var())\n",
    "        df_mini[cuped_column] = df_mini[m] - (df_mini[covariate_column] - mean_covariate) * theta\n",
    "\n",
    "    df.update(df_mini)\n",
    "\n",
    "    return df.drop_duplicates()"
   ]
  },
  {
   "cell_type": "code",
   "execution_count": 62,
   "id": "e86af253",
   "metadata": {},
   "outputs": [],
   "source": [
    "shop_metrics_all = pd.merge(shop_metrics_new,\n",
    "                            shop_metrics_old[['user_id', 'cart_added_cnt']],\n",
    "                            on=['user_id'],\n",
    "                            how='left')"
   ]
  },
  {
   "cell_type": "code",
   "execution_count": 63,
   "id": "a6ad88f0",
   "metadata": {},
   "outputs": [],
   "source": [
    "shop_metrics_all = shop_metrics_all\\\n",
    "                   .rename(columns={'cart_added_cnt_x': 'cart_added_cnt',\n",
    "                                    'cart_added_cnt_y': 'cart_added_cnt_covariate'})"
   ]
  },
  {
   "cell_type": "markdown",
   "id": "d85ef0b1",
   "metadata": {},
   "source": [
    "Данные из датасета old примем, как ковариату, из new оставим без изменений"
   ]
  },
  {
   "cell_type": "code",
   "execution_count": 64,
   "id": "c3bff63a",
   "metadata": {},
   "outputs": [],
   "source": [
    "shop_metrics_all_cuped = cuped_transform(shop_metrics_all.copy(), ['cart_added_cnt'])"
   ]
  },
  {
   "cell_type": "code",
   "execution_count": 65,
   "id": "0a858a91",
   "metadata": {},
   "outputs": [
    {
     "data": {
      "text/html": [
       "<div>\n",
       "<style scoped>\n",
       "    .dataframe tbody tr th:only-of-type {\n",
       "        vertical-align: middle;\n",
       "    }\n",
       "\n",
       "    .dataframe tbody tr th {\n",
       "        vertical-align: top;\n",
       "    }\n",
       "\n",
       "    .dataframe thead th {\n",
       "        text-align: right;\n",
       "    }\n",
       "</style>\n",
       "<table border=\"1\" class=\"dataframe\">\n",
       "  <thead>\n",
       "    <tr style=\"text-align: right;\">\n",
       "      <th></th>\n",
       "      <th>user_id</th>\n",
       "      <th>group</th>\n",
       "      <th>is_viewed</th>\n",
       "      <th>products_viewed_cnt</th>\n",
       "      <th>price_sum</th>\n",
       "      <th>is_cart_added</th>\n",
       "      <th>is_purchased</th>\n",
       "      <th>cart_added_cnt</th>\n",
       "      <th>purchased_cnt</th>\n",
       "      <th>cart_added_cnt_covariate</th>\n",
       "      <th>cart_added_cnt_cuped</th>\n",
       "    </tr>\n",
       "  </thead>\n",
       "  <tbody>\n",
       "    <tr>\n",
       "      <th>0</th>\n",
       "      <td>1515915625353230683</td>\n",
       "      <td>A</td>\n",
       "      <td>1</td>\n",
       "      <td>1</td>\n",
       "      <td>339.79</td>\n",
       "      <td>0.0</td>\n",
       "      <td>0.0</td>\n",
       "      <td>0</td>\n",
       "      <td>0</td>\n",
       "      <td>0</td>\n",
       "      <td>0.132761</td>\n",
       "    </tr>\n",
       "    <tr>\n",
       "      <th>1</th>\n",
       "      <td>1515915625353234047</td>\n",
       "      <td>A</td>\n",
       "      <td>1</td>\n",
       "      <td>9</td>\n",
       "      <td>861.86</td>\n",
       "      <td>0.0</td>\n",
       "      <td>0.0</td>\n",
       "      <td>0</td>\n",
       "      <td>0</td>\n",
       "      <td>0</td>\n",
       "      <td>0.132761</td>\n",
       "    </tr>\n",
       "    <tr>\n",
       "      <th>2</th>\n",
       "      <td>1515915625353236157</td>\n",
       "      <td>A</td>\n",
       "      <td>1</td>\n",
       "      <td>4</td>\n",
       "      <td>179.60</td>\n",
       "      <td>0.0</td>\n",
       "      <td>0.0</td>\n",
       "      <td>0</td>\n",
       "      <td>0</td>\n",
       "      <td>0</td>\n",
       "      <td>0.132761</td>\n",
       "    </tr>\n",
       "    <tr>\n",
       "      <th>3</th>\n",
       "      <td>1515915625353294441</td>\n",
       "      <td>B</td>\n",
       "      <td>1</td>\n",
       "      <td>28</td>\n",
       "      <td>4283.04</td>\n",
       "      <td>0.0</td>\n",
       "      <td>0.0</td>\n",
       "      <td>0</td>\n",
       "      <td>0</td>\n",
       "      <td>0</td>\n",
       "      <td>0.132761</td>\n",
       "    </tr>\n",
       "    <tr>\n",
       "      <th>4</th>\n",
       "      <td>1515915625353386199</td>\n",
       "      <td>B</td>\n",
       "      <td>1</td>\n",
       "      <td>1</td>\n",
       "      <td>20.98</td>\n",
       "      <td>0.0</td>\n",
       "      <td>0.0</td>\n",
       "      <td>0</td>\n",
       "      <td>0</td>\n",
       "      <td>0</td>\n",
       "      <td>0.132761</td>\n",
       "    </tr>\n",
       "    <tr>\n",
       "      <th>...</th>\n",
       "      <td>...</td>\n",
       "      <td>...</td>\n",
       "      <td>...</td>\n",
       "      <td>...</td>\n",
       "      <td>...</td>\n",
       "      <td>...</td>\n",
       "      <td>...</td>\n",
       "      <td>...</td>\n",
       "      <td>...</td>\n",
       "      <td>...</td>\n",
       "      <td>...</td>\n",
       "    </tr>\n",
       "    <tr>\n",
       "      <th>222516</th>\n",
       "      <td>1515915625611023671</td>\n",
       "      <td>B</td>\n",
       "      <td>1</td>\n",
       "      <td>1</td>\n",
       "      <td>32.22</td>\n",
       "      <td>0.0</td>\n",
       "      <td>0.0</td>\n",
       "      <td>0</td>\n",
       "      <td>0</td>\n",
       "      <td>0</td>\n",
       "      <td>0.132761</td>\n",
       "    </tr>\n",
       "    <tr>\n",
       "      <th>222517</th>\n",
       "      <td>1515915625611023730</td>\n",
       "      <td>B</td>\n",
       "      <td>1</td>\n",
       "      <td>1</td>\n",
       "      <td>219.94</td>\n",
       "      <td>0.0</td>\n",
       "      <td>0.0</td>\n",
       "      <td>0</td>\n",
       "      <td>0</td>\n",
       "      <td>0</td>\n",
       "      <td>0.132761</td>\n",
       "    </tr>\n",
       "    <tr>\n",
       "      <th>222518</th>\n",
       "      <td>1515915625611024014</td>\n",
       "      <td>B</td>\n",
       "      <td>1</td>\n",
       "      <td>1</td>\n",
       "      <td>80.03</td>\n",
       "      <td>0.0</td>\n",
       "      <td>0.0</td>\n",
       "      <td>0</td>\n",
       "      <td>0</td>\n",
       "      <td>0</td>\n",
       "      <td>0.132761</td>\n",
       "    </tr>\n",
       "    <tr>\n",
       "      <th>222519</th>\n",
       "      <td>1515915625611024020</td>\n",
       "      <td>B</td>\n",
       "      <td>1</td>\n",
       "      <td>1</td>\n",
       "      <td>64.92</td>\n",
       "      <td>0.0</td>\n",
       "      <td>0.0</td>\n",
       "      <td>0</td>\n",
       "      <td>0</td>\n",
       "      <td>0</td>\n",
       "      <td>0.132761</td>\n",
       "    </tr>\n",
       "    <tr>\n",
       "      <th>222520</th>\n",
       "      <td>1515915625611024030</td>\n",
       "      <td>B</td>\n",
       "      <td>1</td>\n",
       "      <td>1</td>\n",
       "      <td>10.16</td>\n",
       "      <td>0.0</td>\n",
       "      <td>0.0</td>\n",
       "      <td>0</td>\n",
       "      <td>0</td>\n",
       "      <td>0</td>\n",
       "      <td>0.132761</td>\n",
       "    </tr>\n",
       "  </tbody>\n",
       "</table>\n",
       "<p>222521 rows × 11 columns</p>\n",
       "</div>"
      ],
      "text/plain": [
       "                    user_id group  is_viewed  products_viewed_cnt  price_sum  \\\n",
       "0       1515915625353230683     A          1                    1     339.79   \n",
       "1       1515915625353234047     A          1                    9     861.86   \n",
       "2       1515915625353236157     A          1                    4     179.60   \n",
       "3       1515915625353294441     B          1                   28    4283.04   \n",
       "4       1515915625353386199     B          1                    1      20.98   \n",
       "...                     ...   ...        ...                  ...        ...   \n",
       "222516  1515915625611023671     B          1                    1      32.22   \n",
       "222517  1515915625611023730     B          1                    1     219.94   \n",
       "222518  1515915625611024014     B          1                    1      80.03   \n",
       "222519  1515915625611024020     B          1                    1      64.92   \n",
       "222520  1515915625611024030     B          1                    1      10.16   \n",
       "\n",
       "        is_cart_added  is_purchased  cart_added_cnt  purchased_cnt  \\\n",
       "0                 0.0           0.0               0              0   \n",
       "1                 0.0           0.0               0              0   \n",
       "2                 0.0           0.0               0              0   \n",
       "3                 0.0           0.0               0              0   \n",
       "4                 0.0           0.0               0              0   \n",
       "...               ...           ...             ...            ...   \n",
       "222516            0.0           0.0               0              0   \n",
       "222517            0.0           0.0               0              0   \n",
       "222518            0.0           0.0               0              0   \n",
       "222519            0.0           0.0               0              0   \n",
       "222520            0.0           0.0               0              0   \n",
       "\n",
       "        cart_added_cnt_covariate  cart_added_cnt_cuped  \n",
       "0                              0              0.132761  \n",
       "1                              0              0.132761  \n",
       "2                              0              0.132761  \n",
       "3                              0              0.132761  \n",
       "4                              0              0.132761  \n",
       "...                          ...                   ...  \n",
       "222516                         0              0.132761  \n",
       "222517                         0              0.132761  \n",
       "222518                         0              0.132761  \n",
       "222519                         0              0.132761  \n",
       "222520                         0              0.132761  \n",
       "\n",
       "[222521 rows x 11 columns]"
      ]
     },
     "execution_count": 65,
     "metadata": {},
     "output_type": "execute_result"
    }
   ],
   "source": [
    "shop_metrics_all_cuped"
   ]
  },
  {
   "cell_type": "code",
   "execution_count": 67,
   "id": "aa08327e",
   "metadata": {},
   "outputs": [
    {
     "name": "stdout",
     "output_type": "stream",
     "text": [
      "метрика_cuped A: 0.13638231572656984,         метрика_cuped B: 0.1372102898471449\n",
      "метрика без cuped A: 0.1350419058398685,         метрика без cuped B: 0.1385521582733813\n"
     ]
    }
   ],
   "source": [
    "print(f'метрика_cuped A: {shop_metrics_all_cuped[shop_metrics_all_cuped.group == \"A\"][\"cart_added_cnt_cuped\"].mean()}, \\\n",
    "        метрика_cuped B: {shop_metrics_all_cuped[shop_metrics_all_cuped.group == \"B\"][\"cart_added_cnt_cuped\"].mean()}')\n",
    "print(f'метрика без cuped A: {shop_metrics_all_cuped[shop_metrics_all_cuped.group == \"A\"][\"cart_added_cnt\"].mean()}, \\\n",
    "        метрика без cuped B: {shop_metrics_all_cuped[shop_metrics_all_cuped.group == \"B\"][\"cart_added_cnt\"].mean()}')\n"
   ]
  },
  {
   "cell_type": "code",
   "execution_count": 66,
   "id": "0f023b12",
   "metadata": {},
   "outputs": [
    {
     "data": {
      "text/plain": [
       "Ttest_indResult(statistic=-1.3855896128552472, pvalue=0.16587364048446882)"
      ]
     },
     "execution_count": 66,
     "metadata": {},
     "output_type": "execute_result"
    }
   ],
   "source": [
    "stats.ttest_ind(shop_metrics_all_cuped[shop_metrics_all_cuped.group == 'A']['cart_added_cnt_cuped'], \n",
    "                shop_metrics_all_cuped[shop_metrics_all_cuped.group == 'B']['cart_added_cnt_cuped'])"
   ]
  },
  {
   "cell_type": "markdown",
   "id": "70e1d7a0",
   "metadata": {},
   "source": [
    "#### T-test не нашел различий между выборками после cuped-трансформации"
   ]
  },
  {
   "cell_type": "markdown",
   "id": "612173ed",
   "metadata": {},
   "source": [
    "### Метрика cart_added_cnt (а после подвергнуть ранговому преобразованию)"
   ]
  },
  {
   "cell_type": "code",
   "execution_count": 69,
   "id": "705e6ae8",
   "metadata": {},
   "outputs": [
    {
     "data": {
      "text/html": [
       "<div>\n",
       "<style scoped>\n",
       "    .dataframe tbody tr th:only-of-type {\n",
       "        vertical-align: middle;\n",
       "    }\n",
       "\n",
       "    .dataframe tbody tr th {\n",
       "        vertical-align: top;\n",
       "    }\n",
       "\n",
       "    .dataframe thead th {\n",
       "        text-align: right;\n",
       "    }\n",
       "</style>\n",
       "<table border=\"1\" class=\"dataframe\">\n",
       "  <thead>\n",
       "    <tr style=\"text-align: right;\">\n",
       "      <th></th>\n",
       "      <th>user_id</th>\n",
       "      <th>group</th>\n",
       "      <th>is_viewed</th>\n",
       "      <th>products_viewed_cnt</th>\n",
       "      <th>price_sum</th>\n",
       "      <th>is_cart_added</th>\n",
       "      <th>is_purchased</th>\n",
       "      <th>cart_added_cnt</th>\n",
       "      <th>purchased_cnt</th>\n",
       "      <th>cart_added_cnt_covariate</th>\n",
       "      <th>cart_added_cnt_cuped</th>\n",
       "      <th>rank</th>\n",
       "    </tr>\n",
       "  </thead>\n",
       "  <tbody>\n",
       "    <tr>\n",
       "      <th>0</th>\n",
       "      <td>1515915625353230683</td>\n",
       "      <td>A</td>\n",
       "      <td>1</td>\n",
       "      <td>1</td>\n",
       "      <td>339.79</td>\n",
       "      <td>0.0</td>\n",
       "      <td>0.0</td>\n",
       "      <td>0</td>\n",
       "      <td>0</td>\n",
       "      <td>0</td>\n",
       "      <td>0.132761</td>\n",
       "      <td>100501.5</td>\n",
       "    </tr>\n",
       "    <tr>\n",
       "      <th>1</th>\n",
       "      <td>1515915625353234047</td>\n",
       "      <td>A</td>\n",
       "      <td>1</td>\n",
       "      <td>9</td>\n",
       "      <td>861.86</td>\n",
       "      <td>0.0</td>\n",
       "      <td>0.0</td>\n",
       "      <td>0</td>\n",
       "      <td>0</td>\n",
       "      <td>0</td>\n",
       "      <td>0.132761</td>\n",
       "      <td>100501.5</td>\n",
       "    </tr>\n",
       "    <tr>\n",
       "      <th>2</th>\n",
       "      <td>1515915625353236157</td>\n",
       "      <td>A</td>\n",
       "      <td>1</td>\n",
       "      <td>4</td>\n",
       "      <td>179.60</td>\n",
       "      <td>0.0</td>\n",
       "      <td>0.0</td>\n",
       "      <td>0</td>\n",
       "      <td>0</td>\n",
       "      <td>0</td>\n",
       "      <td>0.132761</td>\n",
       "      <td>100501.5</td>\n",
       "    </tr>\n",
       "  </tbody>\n",
       "</table>\n",
       "</div>"
      ],
      "text/plain": [
       "               user_id group  is_viewed  products_viewed_cnt  price_sum  \\\n",
       "0  1515915625353230683     A          1                    1     339.79   \n",
       "1  1515915625353234047     A          1                    9     861.86   \n",
       "2  1515915625353236157     A          1                    4     179.60   \n",
       "\n",
       "   is_cart_added  is_purchased  cart_added_cnt  purchased_cnt  \\\n",
       "0            0.0           0.0               0              0   \n",
       "1            0.0           0.0               0              0   \n",
       "2            0.0           0.0               0              0   \n",
       "\n",
       "   cart_added_cnt_covariate  cart_added_cnt_cuped      rank  \n",
       "0                         0              0.132761  100501.5  \n",
       "1                         0              0.132761  100501.5  \n",
       "2                         0              0.132761  100501.5  "
      ]
     },
     "execution_count": 69,
     "metadata": {},
     "output_type": "execute_result"
    }
   ],
   "source": [
    "ranked = rank_transformation(shop_metrics_all_cuped[shop_metrics_all_cuped.group == 'A'], \n",
    "                             shop_metrics_all_cuped[shop_metrics_all_cuped.group == 'B'], 'cart_added_cnt_cuped')\n",
    "ranked.head(3)"
   ]
  },
  {
   "cell_type": "code",
   "execution_count": 70,
   "id": "6e70042f",
   "metadata": {},
   "outputs": [
    {
     "data": {
      "text/plain": [
       "Ttest_indResult(statistic=-1.4459909525623789, pvalue=0.14818114788143422)"
      ]
     },
     "execution_count": 70,
     "metadata": {},
     "output_type": "execute_result"
    }
   ],
   "source": [
    "stats.ttest_ind(ranked[ranked.group == 'A']['rank'], ranked[ranked.group == 'B']['rank'])"
   ]
  },
  {
   "cell_type": "code",
   "execution_count": 82,
   "id": "615c5b11",
   "metadata": {},
   "outputs": [],
   "source": [
    "diff_mean = (ranked[ranked.group == 'B']['rank'].mean() - ranked[ranked.group == 'A']['rank'].mean()) / ranked[ranked.group == 'A']['rank'].mean()*100"
   ]
  },
  {
   "cell_type": "code",
   "execution_count": 83,
   "id": "c285baa7",
   "metadata": {},
   "outputs": [
    {
     "name": "stdout",
     "output_type": "stream",
     "text": [
      "метрика_cuped A: 111157.3299691882,         метрика_cuped B: 111364.78283723022\n",
      "разница средних: 0.186629948829756\n"
     ]
    }
   ],
   "source": [
    "print(f'метрика_cuped A: {ranked[ranked.group == \"A\"][\"rank\"].mean()}, \\\n",
    "        метрика_cuped B: {ranked[ranked.group == \"B\"][\"rank\"].mean()}')\n",
    "print(f'разница средних: {diff_mean}')"
   ]
  },
  {
   "cell_type": "markdown",
   "id": "3670c0f1",
   "metadata": {},
   "source": [
    "#### T-test не нашел различий между выборками после cuped-трансформации и последующему ранговому преобразованию"
   ]
  },
  {
   "cell_type": "markdown",
   "id": "30416287",
   "metadata": {},
   "source": [
    "### Логарфимированной метрике cart_added_cnt"
   ]
  },
  {
   "cell_type": "code",
   "execution_count": 55,
   "id": "72c3bcb2",
   "metadata": {},
   "outputs": [
    {
     "data": {
      "text/html": [
       "<div>\n",
       "<style scoped>\n",
       "    .dataframe tbody tr th:only-of-type {\n",
       "        vertical-align: middle;\n",
       "    }\n",
       "\n",
       "    .dataframe tbody tr th {\n",
       "        vertical-align: top;\n",
       "    }\n",
       "\n",
       "    .dataframe thead th {\n",
       "        text-align: right;\n",
       "    }\n",
       "</style>\n",
       "<table border=\"1\" class=\"dataframe\">\n",
       "  <thead>\n",
       "    <tr style=\"text-align: right;\">\n",
       "      <th></th>\n",
       "      <th>user_id</th>\n",
       "      <th>group</th>\n",
       "      <th>is_viewed</th>\n",
       "      <th>products_viewed_cnt</th>\n",
       "      <th>price_sum</th>\n",
       "      <th>is_cart_added</th>\n",
       "      <th>is_purchased</th>\n",
       "      <th>cart_added_cnt</th>\n",
       "      <th>purchased_cnt</th>\n",
       "      <th>cart_added_cnt_covariate</th>\n",
       "    </tr>\n",
       "  </thead>\n",
       "  <tbody>\n",
       "    <tr>\n",
       "      <th>0</th>\n",
       "      <td>1515915625353230683</td>\n",
       "      <td>A</td>\n",
       "      <td>1</td>\n",
       "      <td>1</td>\n",
       "      <td>339.79</td>\n",
       "      <td>0.0</td>\n",
       "      <td>0.0</td>\n",
       "      <td>0</td>\n",
       "      <td>0</td>\n",
       "      <td>0</td>\n",
       "    </tr>\n",
       "    <tr>\n",
       "      <th>1</th>\n",
       "      <td>1515915625353234047</td>\n",
       "      <td>A</td>\n",
       "      <td>1</td>\n",
       "      <td>9</td>\n",
       "      <td>861.86</td>\n",
       "      <td>0.0</td>\n",
       "      <td>0.0</td>\n",
       "      <td>0</td>\n",
       "      <td>0</td>\n",
       "      <td>0</td>\n",
       "    </tr>\n",
       "    <tr>\n",
       "      <th>2</th>\n",
       "      <td>1515915625353236157</td>\n",
       "      <td>A</td>\n",
       "      <td>1</td>\n",
       "      <td>4</td>\n",
       "      <td>179.60</td>\n",
       "      <td>0.0</td>\n",
       "      <td>0.0</td>\n",
       "      <td>0</td>\n",
       "      <td>0</td>\n",
       "      <td>0</td>\n",
       "    </tr>\n",
       "    <tr>\n",
       "      <th>3</th>\n",
       "      <td>1515915625353294441</td>\n",
       "      <td>B</td>\n",
       "      <td>1</td>\n",
       "      <td>28</td>\n",
       "      <td>4283.04</td>\n",
       "      <td>0.0</td>\n",
       "      <td>0.0</td>\n",
       "      <td>0</td>\n",
       "      <td>0</td>\n",
       "      <td>0</td>\n",
       "    </tr>\n",
       "    <tr>\n",
       "      <th>4</th>\n",
       "      <td>1515915625353386199</td>\n",
       "      <td>B</td>\n",
       "      <td>1</td>\n",
       "      <td>1</td>\n",
       "      <td>20.98</td>\n",
       "      <td>0.0</td>\n",
       "      <td>0.0</td>\n",
       "      <td>0</td>\n",
       "      <td>0</td>\n",
       "      <td>0</td>\n",
       "    </tr>\n",
       "    <tr>\n",
       "      <th>...</th>\n",
       "      <td>...</td>\n",
       "      <td>...</td>\n",
       "      <td>...</td>\n",
       "      <td>...</td>\n",
       "      <td>...</td>\n",
       "      <td>...</td>\n",
       "      <td>...</td>\n",
       "      <td>...</td>\n",
       "      <td>...</td>\n",
       "      <td>...</td>\n",
       "    </tr>\n",
       "    <tr>\n",
       "      <th>222516</th>\n",
       "      <td>1515915625611023671</td>\n",
       "      <td>B</td>\n",
       "      <td>1</td>\n",
       "      <td>1</td>\n",
       "      <td>32.22</td>\n",
       "      <td>0.0</td>\n",
       "      <td>0.0</td>\n",
       "      <td>0</td>\n",
       "      <td>0</td>\n",
       "      <td>0</td>\n",
       "    </tr>\n",
       "    <tr>\n",
       "      <th>222517</th>\n",
       "      <td>1515915625611023730</td>\n",
       "      <td>B</td>\n",
       "      <td>1</td>\n",
       "      <td>1</td>\n",
       "      <td>219.94</td>\n",
       "      <td>0.0</td>\n",
       "      <td>0.0</td>\n",
       "      <td>0</td>\n",
       "      <td>0</td>\n",
       "      <td>0</td>\n",
       "    </tr>\n",
       "    <tr>\n",
       "      <th>222518</th>\n",
       "      <td>1515915625611024014</td>\n",
       "      <td>B</td>\n",
       "      <td>1</td>\n",
       "      <td>1</td>\n",
       "      <td>80.03</td>\n",
       "      <td>0.0</td>\n",
       "      <td>0.0</td>\n",
       "      <td>0</td>\n",
       "      <td>0</td>\n",
       "      <td>0</td>\n",
       "    </tr>\n",
       "    <tr>\n",
       "      <th>222519</th>\n",
       "      <td>1515915625611024020</td>\n",
       "      <td>B</td>\n",
       "      <td>1</td>\n",
       "      <td>1</td>\n",
       "      <td>64.92</td>\n",
       "      <td>0.0</td>\n",
       "      <td>0.0</td>\n",
       "      <td>0</td>\n",
       "      <td>0</td>\n",
       "      <td>0</td>\n",
       "    </tr>\n",
       "    <tr>\n",
       "      <th>222520</th>\n",
       "      <td>1515915625611024030</td>\n",
       "      <td>B</td>\n",
       "      <td>1</td>\n",
       "      <td>1</td>\n",
       "      <td>10.16</td>\n",
       "      <td>0.0</td>\n",
       "      <td>0.0</td>\n",
       "      <td>0</td>\n",
       "      <td>0</td>\n",
       "      <td>0</td>\n",
       "    </tr>\n",
       "  </tbody>\n",
       "</table>\n",
       "<p>222521 rows × 10 columns</p>\n",
       "</div>"
      ],
      "text/plain": [
       "                    user_id group  is_viewed  products_viewed_cnt  price_sum  \\\n",
       "0       1515915625353230683     A          1                    1     339.79   \n",
       "1       1515915625353234047     A          1                    9     861.86   \n",
       "2       1515915625353236157     A          1                    4     179.60   \n",
       "3       1515915625353294441     B          1                   28    4283.04   \n",
       "4       1515915625353386199     B          1                    1      20.98   \n",
       "...                     ...   ...        ...                  ...        ...   \n",
       "222516  1515915625611023671     B          1                    1      32.22   \n",
       "222517  1515915625611023730     B          1                    1     219.94   \n",
       "222518  1515915625611024014     B          1                    1      80.03   \n",
       "222519  1515915625611024020     B          1                    1      64.92   \n",
       "222520  1515915625611024030     B          1                    1      10.16   \n",
       "\n",
       "        is_cart_added  is_purchased  cart_added_cnt  purchased_cnt  \\\n",
       "0                 0.0           0.0               0              0   \n",
       "1                 0.0           0.0               0              0   \n",
       "2                 0.0           0.0               0              0   \n",
       "3                 0.0           0.0               0              0   \n",
       "4                 0.0           0.0               0              0   \n",
       "...               ...           ...             ...            ...   \n",
       "222516            0.0           0.0               0              0   \n",
       "222517            0.0           0.0               0              0   \n",
       "222518            0.0           0.0               0              0   \n",
       "222519            0.0           0.0               0              0   \n",
       "222520            0.0           0.0               0              0   \n",
       "\n",
       "        cart_added_cnt_covariate  \n",
       "0                              0  \n",
       "1                              0  \n",
       "2                              0  \n",
       "3                              0  \n",
       "4                              0  \n",
       "...                          ...  \n",
       "222516                         0  \n",
       "222517                         0  \n",
       "222518                         0  \n",
       "222519                         0  \n",
       "222520                         0  \n",
       "\n",
       "[222521 rows x 10 columns]"
      ]
     },
     "execution_count": 55,
     "metadata": {},
     "output_type": "execute_result"
    }
   ],
   "source": [
    "shop_metrics_all"
   ]
  },
  {
   "cell_type": "code",
   "execution_count": 56,
   "id": "cc2a0c62",
   "metadata": {},
   "outputs": [],
   "source": [
    "shop_metrics_all['cart_added_cnt_ln'] = np.log(shop_metrics_all['cart_added_cnt'] + 1)\n",
    "shop_metrics_all['cart_added_cnt_ln_covariate'] = np.log(shop_metrics_all['cart_added_cnt_covariate'] + 1)"
   ]
  },
  {
   "cell_type": "code",
   "execution_count": 57,
   "id": "dd5931a4",
   "metadata": {},
   "outputs": [],
   "source": [
    "shop_metrics_all_cuped = cuped_transform(shop_metrics_all.copy(), ['cart_added_cnt_ln'])"
   ]
  },
  {
   "cell_type": "code",
   "execution_count": 60,
   "id": "fa55d6c7",
   "metadata": {},
   "outputs": [
    {
     "name": "stdout",
     "output_type": "stream",
     "text": [
      "метрика_cuped A: 0.08034157852348506,         метрика_cuped B: 0.08072086382541407\n",
      "метрика без cuped A: 0.1350419058398685,         метрика без cuped B: 0.1385521582733813\n"
     ]
    }
   ],
   "source": [
    "print(f'метрика_cuped A: {shop_metrics_all_cuped[shop_metrics_all_cuped.group == \"A\"][\"cart_added_cnt_ln_cuped\"].mean()}, \\\n",
    "        метрика_cuped B: {shop_metrics_all_cuped[shop_metrics_all_cuped.group == \"B\"][\"cart_added_cnt_ln_cuped\"].mean()}')\n",
    "print(f'метрика без cuped A: {shop_metrics_all_cuped[shop_metrics_all_cuped.group == \"A\"][\"cart_added_cnt\"].mean()}, \\\n",
    "        метрика без cuped B: {shop_metrics_all_cuped[shop_metrics_all_cuped.group == \"B\"][\"cart_added_cnt\"].mean()}')\n"
   ]
  },
  {
   "cell_type": "code",
   "execution_count": 59,
   "id": "c4108809",
   "metadata": {},
   "outputs": [
    {
     "data": {
      "text/plain": [
       "Ttest_indResult(statistic=-2.0493551016893137, pvalue=0.040428574069604185)"
      ]
     },
     "execution_count": 59,
     "metadata": {},
     "output_type": "execute_result"
    }
   ],
   "source": [
    "stats.ttest_ind(shop_metrics_all_cuped[shop_metrics_all_cuped.group == 'A']['cart_added_cnt_ln_cuped'], \n",
    "                shop_metrics_all_cuped[shop_metrics_all_cuped.group == 'B']['cart_added_cnt_ln_cuped'])"
   ]
  },
  {
   "cell_type": "markdown",
   "id": "6fb11537",
   "metadata": {},
   "source": [
    "#### T-test нашел различия между выборками, вначале мы логорифмировали значения таргета, а после использовали CUPED преобразование"
   ]
  },
  {
   "cell_type": "markdown",
   "id": "c1d03a63",
   "metadata": {},
   "source": [
    "# В каждом случае фиксировать, на сколько сокращается дисперсия, проверять равны ли средние в группах в ковариате и совпадают ли средние в метрике до и после применения cuped"
   ]
  },
  {
   "cell_type": "markdown",
   "id": "79312c05",
   "metadata": {},
   "source": [
    "## Реализовать разбивку на бакеты, оценить t-критерием и сравнить с результатом без бакетирования:"
   ]
  },
  {
   "cell_type": "markdown",
   "id": "8c7c1812",
   "metadata": {},
   "source": [
    "### На логнормальном распределении (сгенерированные данные)"
   ]
  },
  {
   "cell_type": "code",
   "execution_count": 100,
   "id": "87014bd2",
   "metadata": {},
   "outputs": [],
   "source": [
    "# Генерация логнормального распределения\n",
    "mu, sigma = 0, 0.1  # Параметры логнормального распределения\n",
    "s = np.random.lognormal(mu, sigma, 10000)  # Генерация 10000 случайных чисел\n"
   ]
  },
  {
   "cell_type": "code",
   "execution_count": 101,
   "id": "343c5a52",
   "metadata": {},
   "outputs": [
    {
     "data": {
      "image/png": "[encoded data removed]",
      "text/plain": [
       "<Figure size 640x480 with 1 Axes>"
      ]
     },
     "metadata": {},
     "output_type": "display_data"
    }
   ],
   "source": [
    "# Визуализация распределения\n",
    "count, bins, ignored = plt.hist(s, 100, density=True, align='mid', alpha=0.6)\n",
    "x = np.linspace(min(bins), max(bins), 100)\n",
    "pdf = (np.exp(-(np.log(x) - mu)**2 / (2 * sigma**2)) / (x * sigma * np.sqrt(2 * np.pi)))\n",
    "plt.plot(x, pdf, linewidth=2, color='r')\n",
    "plt.show()\n"
   ]
  },
  {
   "cell_type": "code",
   "execution_count": 106,
   "id": "7746c17a",
   "metadata": {},
   "outputs": [],
   "source": [
    "# Сортировка\n",
    "s = sorted(s)"
   ]
  },
  {
   "cell_type": "code",
   "execution_count": 113,
   "id": "eb908d6d",
   "metadata": {},
   "outputs": [],
   "source": [
    "# Бакетируем\n",
    "n = 100\n",
    "backets = np.array_split(s, n)\n",
    "\n"
   ]
  },
  {
   "cell_type": "code",
   "execution_count": 114,
   "id": "87708583",
   "metadata": {},
   "outputs": [
    {
     "data": {
      "text/plain": [
       "array([0.76230317, 0.80245346, 0.81930878, 0.83303918, 0.84377865,\n",
       "       0.85239981, 0.85982919, 0.86579656, 0.87080789, 0.87522953,\n",
       "       0.88032595, 0.88508933, 0.88946318, 0.89365875, 0.89804073,\n",
       "       0.9018948 , 0.90575705, 0.90957964, 0.91329125, 0.91718247,\n",
       "       0.92051431, 0.92366298, 0.92715017, 0.93058176, 0.93331919,\n",
       "       0.93615305, 0.93892718, 0.94151922, 0.94442981, 0.94698938,\n",
       "       0.94936   , 0.95202358, 0.95480282, 0.95762276, 0.96000985,\n",
       "       0.96288292, 0.96528131, 0.96793963, 0.97093149, 0.97366136,\n",
       "       0.97593632, 0.97859267, 0.98138547, 0.9841563 , 0.9867644 ,\n",
       "       0.98962503, 0.9924345 , 0.9950103 , 0.9974994 , 0.99990567,\n",
       "       1.00238059, 1.00484773, 1.00734318, 1.00982847, 1.01225512,\n",
       "       1.01480437, 1.01756472, 1.0203026 , 1.02317831, 1.02593002,\n",
       "       1.02839635, 1.03077487, 1.03344506, 1.0361595 , 1.03877256,\n",
       "       1.0413202 , 1.04400876, 1.04690885, 1.05040128, 1.05341041,\n",
       "       1.05649788, 1.05963793, 1.06296343, 1.06593447, 1.06885352,\n",
       "       1.07265797, 1.07655075, 1.079743  , 1.08320056, 1.0869289 ,\n",
       "       1.09053675, 1.09462616, 1.09915504, 1.10369118, 1.108003  ,\n",
       "       1.11212696, 1.11621796, 1.12094073, 1.12663618, 1.13263498,\n",
       "       1.13915717, 1.14616579, 1.15487456, 1.16426944, 1.17438898,\n",
       "       1.18630109, 1.19873437, 1.21668551, 1.24409959, 1.31397264])"
      ]
     },
     "execution_count": 114,
     "metadata": {},
     "output_type": "execute_result"
    }
   ],
   "source": [
    "#берем среднее по каждому бакету\n",
    "mean_backets = np.mean(backets, axis=1)\n",
    "mean_backets"
   ]
  },
  {
   "cell_type": "code",
   "execution_count": 115,
   "id": "42125aba",
   "metadata": {},
   "outputs": [
    {
     "data": {
      "text/plain": [
       "Ttest_indResult(statistic=0.0, pvalue=1.0)"
      ]
     },
     "execution_count": 115,
     "metadata": {},
     "output_type": "execute_result"
    }
   ],
   "source": [
    "stats.ttest_ind(mean_backets, s)"
   ]
  },
  {
   "cell_type": "markdown",
   "id": "9617ba58",
   "metadata": {},
   "source": [
    "#### p-value на T-test'e показывает, что различий нет"
   ]
  },
  {
   "cell_type": "markdown",
   "id": "6e89b7a6",
   "metadata": {},
   "source": [
    "### На метрике cart_added_cnt "
   ]
  },
  {
   "cell_type": "code",
   "execution_count": 151,
   "id": "ff40ce0b",
   "metadata": {},
   "outputs": [],
   "source": [
    "# Сортировка\n",
    "# Убираю 21 ноль, чтобы нормально отработала функция np.mean()\n",
    "data = sorted(shop_metrics_new['cart_added_cnt'])[21:]"
   ]
  },
  {
   "cell_type": "code",
   "execution_count": 152,
   "id": "dbb98d69",
   "metadata": {},
   "outputs": [],
   "source": [
    "# Бакетируем\n",
    "n = 100\n",
    "backets = np.array_split(data, n)"
   ]
  },
  {
   "cell_type": "code",
   "execution_count": 154,
   "id": "818ca52f",
   "metadata": {},
   "outputs": [
    {
     "data": {
      "text/plain": [
       "array([0.        , 0.        , 0.        , 0.        , 0.        ,\n",
       "       0.        , 0.        , 0.        , 0.        , 0.        ,\n",
       "       0.        , 0.        , 0.        , 0.        , 0.        ,\n",
       "       0.        , 0.        , 0.        , 0.        , 0.        ,\n",
       "       0.        , 0.        , 0.        , 0.        , 0.        ,\n",
       "       0.        , 0.        , 0.        , 0.        , 0.        ,\n",
       "       0.        , 0.        , 0.        , 0.        , 0.        ,\n",
       "       0.        , 0.        , 0.        , 0.        , 0.        ,\n",
       "       0.        , 0.        , 0.        , 0.        , 0.        ,\n",
       "       0.        , 0.        , 0.        , 0.        , 0.        ,\n",
       "       0.        , 0.        , 0.        , 0.        , 0.        ,\n",
       "       0.        , 0.        , 0.        , 0.        , 0.        ,\n",
       "       0.        , 0.        , 0.        , 0.        , 0.        ,\n",
       "       0.        , 0.        , 0.        , 0.        , 0.        ,\n",
       "       0.        , 0.        , 0.        , 0.        , 0.        ,\n",
       "       0.        , 0.        , 0.        , 0.        , 0.        ,\n",
       "       0.        , 0.        , 0.        , 0.        , 0.        ,\n",
       "       0.        , 0.        , 0.        , 0.        , 0.08764045,\n",
       "       1.        , 1.        , 1.        , 1.        , 1.        ,\n",
       "       1.        , 1.        , 1.        , 1.75280899, 3.84044944])"
      ]
     },
     "execution_count": 154,
     "metadata": {},
     "output_type": "execute_result"
    }
   ],
   "source": [
    "#берем среднее по каждому бакету\n",
    "mean_backets = np.mean(backets, axis=1)\n",
    "mean_backets"
   ]
  },
  {
   "cell_type": "code",
   "execution_count": 155,
   "id": "3ff1699c",
   "metadata": {},
   "outputs": [
    {
     "data": {
      "text/plain": [
       "Ttest_indResult(statistic=4.3733280608280013e-16, pvalue=0.9999999999999997)"
      ]
     },
     "execution_count": 155,
     "metadata": {},
     "output_type": "execute_result"
    }
   ],
   "source": [
    "stats.ttest_ind(mean_backets, data)"
   ]
  },
  {
   "cell_type": "markdown",
   "id": "2612a689",
   "metadata": {},
   "source": [
    "#### p-value на T-test'e показывает, что различий нет"
   ]
  },
  {
   "cell_type": "markdown",
   "id": "2a6bba92",
   "metadata": {},
   "source": [
    "## Реализовать постстратификацию на данных shop_metrics_old для метрики cart_added_cnt:\n"
   ]
  },
  {
   "cell_type": "markdown",
   "id": "0d78887b",
   "metadata": {},
   "source": [
    "### на сочетании пола и возраста (возраст разбить на подгруппы: 18-24, 25-45, 46-60, 61-75, 76+) подсчитать результаты для случая без постстратификации и с постстратификацией"
   ]
  },
  {
   "cell_type": "code",
   "execution_count": 271,
   "id": "c75d6931",
   "metadata": {},
   "outputs": [
    {
     "data": {
      "text/html": [
       "<div>\n",
       "<style scoped>\n",
       "    .dataframe tbody tr th:only-of-type {\n",
       "        vertical-align: middle;\n",
       "    }\n",
       "\n",
       "    .dataframe tbody tr th {\n",
       "        vertical-align: top;\n",
       "    }\n",
       "\n",
       "    .dataframe thead th {\n",
       "        text-align: right;\n",
       "    }\n",
       "</style>\n",
       "<table border=\"1\" class=\"dataframe\">\n",
       "  <thead>\n",
       "    <tr style=\"text-align: right;\">\n",
       "      <th></th>\n",
       "      <th>user_id</th>\n",
       "      <th>user_age</th>\n",
       "      <th>user_sex</th>\n",
       "    </tr>\n",
       "  </thead>\n",
       "  <tbody>\n",
       "    <tr>\n",
       "      <th>0</th>\n",
       "      <td>1515915625519388267</td>\n",
       "      <td>41</td>\n",
       "      <td>f</td>\n",
       "    </tr>\n",
       "    <tr>\n",
       "      <th>1</th>\n",
       "      <td>1515915625519380411</td>\n",
       "      <td>84</td>\n",
       "      <td>m</td>\n",
       "    </tr>\n",
       "    <tr>\n",
       "      <th>2</th>\n",
       "      <td>1515915625513238515</td>\n",
       "      <td>41</td>\n",
       "      <td>m</td>\n",
       "    </tr>\n",
       "  </tbody>\n",
       "</table>\n",
       "</div>"
      ],
      "text/plain": [
       "               user_id  user_age user_sex\n",
       "0  1515915625519388267        41        f\n",
       "1  1515915625519380411        84        m\n",
       "2  1515915625513238515        41        m"
      ]
     },
     "execution_count": 271,
     "metadata": {},
     "output_type": "execute_result"
    }
   ],
   "source": [
    "shop_users_info = pd.read_csv('shop_df_users.csv').drop(columns='Unnamed: 0')\n",
    "shop_users_info.head(3)"
   ]
  },
  {
   "cell_type": "code",
   "execution_count": 272,
   "id": "048ae266",
   "metadata": {},
   "outputs": [
    {
     "data": {
      "text/html": [
       "<div>\n",
       "<style scoped>\n",
       "    .dataframe tbody tr th:only-of-type {\n",
       "        vertical-align: middle;\n",
       "    }\n",
       "\n",
       "    .dataframe tbody tr th {\n",
       "        vertical-align: top;\n",
       "    }\n",
       "\n",
       "    .dataframe thead th {\n",
       "        text-align: right;\n",
       "    }\n",
       "</style>\n",
       "<table border=\"1\" class=\"dataframe\">\n",
       "  <thead>\n",
       "    <tr style=\"text-align: right;\">\n",
       "      <th></th>\n",
       "      <th>user_id</th>\n",
       "      <th>group</th>\n",
       "      <th>is_viewed</th>\n",
       "      <th>products_viewed_cnt</th>\n",
       "      <th>price_sum</th>\n",
       "      <th>is_cart_added</th>\n",
       "      <th>is_purchased</th>\n",
       "      <th>cart_added_cnt</th>\n",
       "      <th>purchased_cnt</th>\n",
       "      <th>user_age</th>\n",
       "      <th>user_sex</th>\n",
       "    </tr>\n",
       "  </thead>\n",
       "  <tbody>\n",
       "    <tr>\n",
       "      <th>0</th>\n",
       "      <td>1515915625353226922</td>\n",
       "      <td>B</td>\n",
       "      <td>1</td>\n",
       "      <td>1</td>\n",
       "      <td>76.48</td>\n",
       "      <td>0.0</td>\n",
       "      <td>0.0</td>\n",
       "      <td>0</td>\n",
       "      <td>0</td>\n",
       "      <td>55</td>\n",
       "      <td>f</td>\n",
       "    </tr>\n",
       "    <tr>\n",
       "      <th>1</th>\n",
       "      <td>1515915625353230067</td>\n",
       "      <td>A</td>\n",
       "      <td>1</td>\n",
       "      <td>1</td>\n",
       "      <td>28.98</td>\n",
       "      <td>0.0</td>\n",
       "      <td>0.0</td>\n",
       "      <td>0</td>\n",
       "      <td>0</td>\n",
       "      <td>58</td>\n",
       "      <td>m</td>\n",
       "    </tr>\n",
       "    <tr>\n",
       "      <th>2</th>\n",
       "      <td>1515915625353230683</td>\n",
       "      <td>A</td>\n",
       "      <td>1</td>\n",
       "      <td>10</td>\n",
       "      <td>592.21</td>\n",
       "      <td>0.0</td>\n",
       "      <td>0.0</td>\n",
       "      <td>0</td>\n",
       "      <td>0</td>\n",
       "      <td>23</td>\n",
       "      <td>f</td>\n",
       "    </tr>\n",
       "  </tbody>\n",
       "</table>\n",
       "</div>"
      ],
      "text/plain": [
       "               user_id group  is_viewed  products_viewed_cnt  price_sum  \\\n",
       "0  1515915625353226922     B          1                    1      76.48   \n",
       "1  1515915625353230067     A          1                    1      28.98   \n",
       "2  1515915625353230683     A          1                   10     592.21   \n",
       "\n",
       "   is_cart_added  is_purchased  cart_added_cnt  purchased_cnt  user_age  \\\n",
       "0            0.0           0.0               0              0        55   \n",
       "1            0.0           0.0               0              0        58   \n",
       "2            0.0           0.0               0              0        23   \n",
       "\n",
       "  user_sex  \n",
       "0        f  \n",
       "1        m  \n",
       "2        f  "
      ]
     },
     "execution_count": 272,
     "metadata": {},
     "output_type": "execute_result"
    }
   ],
   "source": [
    "shop_w_features = pd.merge(shop_metrics_old, shop_users_info, on=['user_id'], how='left')\n",
    "shop_w_features.head(3)"
   ]
  },
  {
   "cell_type": "code",
   "execution_count": 273,
   "id": "4366a695",
   "metadata": {},
   "outputs": [],
   "source": [
    "shop_w_features['age_group'] = shop_w_features['user_age'] \\\n",
    "                                .mask((shop_w_features['user_age']>=18) & (shop_w_features['user_age'] <=24), '18-24') \\\n",
    "                                .mask((shop_w_features['user_age']>=25) & (shop_w_features['user_age'] <=45), '25-45') \\\n",
    "                                .mask((shop_w_features['user_age']>=46) & (shop_w_features['user_age'] <=60), '46-60') \\\n",
    "                                .mask((shop_w_features['user_age']>=61) & (shop_w_features['user_age'] <=75), '61-75') \\\n",
    "                                .mask(shop_w_features['user_age']>=76, '76+')"
   ]
  },
  {
   "cell_type": "code",
   "execution_count": 274,
   "id": "e70bc550",
   "metadata": {},
   "outputs": [
    {
     "data": {
      "text/plain": [
       "group  age_group\n",
       "A      25-45        0.314612\n",
       "       46-60        0.224540\n",
       "       61-75        0.221013\n",
       "       76+          0.134624\n",
       "       18-24        0.105210\n",
       "B      25-45        0.314106\n",
       "       61-75        0.223533\n",
       "       46-60        0.223037\n",
       "       76+          0.134842\n",
       "       18-24        0.104482\n",
       "Name: age_group, dtype: float64"
      ]
     },
     "execution_count": 274,
     "metadata": {},
     "output_type": "execute_result"
    }
   ],
   "source": [
    "shop_w_features.groupby('group')['age_group'].value_counts(normalize=True)"
   ]
  },
  {
   "cell_type": "code",
   "execution_count": 275,
   "id": "79671ecb",
   "metadata": {},
   "outputs": [
    {
     "data": {
      "text/plain": [
       "Ttest_indResult(statistic=-0.7331870372707812, pvalue=0.4634447828246868)"
      ]
     },
     "execution_count": 275,
     "metadata": {},
     "output_type": "execute_result"
    }
   ],
   "source": [
    "stats.ttest_ind(shop_w_features[shop_w_features.group == 'A']['cart_added_cnt'], \n",
    "                shop_w_features[shop_w_features.group == 'B']['cart_added_cnt'])"
   ]
  },
  {
   "cell_type": "code",
   "execution_count": 276,
   "id": "3a0dd250",
   "metadata": {},
   "outputs": [
    {
     "data": {
      "text/plain": [
       "49.497907920679424"
      ]
     },
     "execution_count": 276,
     "metadata": {},
     "output_type": "execute_result"
    }
   ],
   "source": [
    "(shop_w_features[shop_w_features.group == 'B']['cart_added_cnt'].mean() - shop_w_features[shop_w_features.group == 'A']['purchased_cnt'].mean()) \\\n",
    "        /shop_w_features[shop_w_features.group == 'A']['cart_added_cnt'].mean() * 100"
   ]
  },
  {
   "cell_type": "code",
   "execution_count": 277,
   "id": "1bdcb860",
   "metadata": {},
   "outputs": [
    {
     "name": "stdout",
     "output_type": "stream",
     "text": [
      "0.5766891197798589 0.5987645651968048\n"
     ]
    }
   ],
   "source": [
    "print(shop_w_features[shop_w_features.group == 'A']['cart_added_cnt'].std(), \n",
    "      shop_w_features[shop_w_features.group == 'B']['cart_added_cnt'].std())"
   ]
  },
  {
   "cell_type": "code",
   "execution_count": 278,
   "id": "d2607109",
   "metadata": {},
   "outputs": [],
   "source": [
    "N = shop_w_features['user_id'].nunique()\n",
    "    \n",
    "strats_weights = {}\n",
    "    \n",
    "for i in range(0, shop_w_features['age_group'].nunique()):\n",
    "    key = shop_w_features['age_group'].value_counts().index[i]\n",
    "    strats_weights[key] = shop_w_features['age_group'].value_counts()[i] / N\n",
    "        "
   ]
  },
  {
   "cell_type": "code",
   "execution_count": 279,
   "id": "2d81ee81",
   "metadata": {},
   "outputs": [],
   "source": [
    "mean_a = shop_w_features[(shop_w_features.group == 'A') & (shop_w_features['age_group'] == '25-45')]['cart_added_cnt'].mean() * strats_weights['25-45']\\\n",
    "        + shop_w_features[(shop_w_features.group == 'A') & (shop_w_features['age_group'] == '46-60')]['cart_added_cnt'].mean() * strats_weights['46-60']\\\n",
    "        + shop_w_features[(shop_w_features.group == 'A') & (shop_w_features['age_group'] == '61-75')]['cart_added_cnt'].mean() * strats_weights['61-75']\\\n",
    "        + shop_w_features[(shop_w_features.group == 'A') & (shop_w_features['age_group'] == '76+')]['cart_added_cnt'].mean() * strats_weights['76+']\\\n",
    "        + shop_w_features[(shop_w_features.group == 'A') & (shop_w_features['age_group'] == '18-24')]['cart_added_cnt'].mean() * strats_weights['18-24']\n"
   ]
  },
  {
   "cell_type": "code",
   "execution_count": 280,
   "id": "384704b1",
   "metadata": {},
   "outputs": [],
   "source": [
    "mean_b = shop_w_features[(shop_w_features.group == 'B') & (shop_w_features['age_group'] == '25-45')]['cart_added_cnt'].mean() * strats_weights['25-45']\\\n",
    "        + shop_w_features[(shop_w_features.group == 'B') & (shop_w_features['age_group'] == '46-60')]['cart_added_cnt'].mean() * strats_weights['46-60']\\\n",
    "        + shop_w_features[(shop_w_features.group == 'B') & (shop_w_features['age_group'] == '61-75')]['cart_added_cnt'].mean() * strats_weights['61-75']\\\n",
    "        + shop_w_features[(shop_w_features.group == 'B') & (shop_w_features['age_group'] == '76+')]['cart_added_cnt'].mean() * strats_weights['76+']\\\n",
    "        + shop_w_features[(shop_w_features.group == 'B') & (shop_w_features['age_group'] == '18-24')]['cart_added_cnt'].mean() * strats_weights['18-24']\n"
   ]
  },
  {
   "cell_type": "code",
   "execution_count": 281,
   "id": "46549040",
   "metadata": {},
   "outputs": [],
   "source": [
    "std_a = (shop_w_features[(shop_w_features.group == 'A') & (shop_w_features['age_group'] == '25-45')]['cart_added_cnt'].std()**2 * strats_weights['25-45']\\\n",
    "        + shop_w_features[(shop_w_features.group == 'A') & (shop_w_features['age_group'] == '46-60')]['cart_added_cnt'].std()**2 * strats_weights['46-60']\\\n",
    "        + shop_w_features[(shop_w_features.group == 'A') & (shop_w_features['age_group'] == '61-75')]['cart_added_cnt'].std()**2 * strats_weights['61-75']\\\n",
    "        + shop_w_features[(shop_w_features.group == 'A') & (shop_w_features['age_group'] == '76+')]['cart_added_cnt'].std()**2 * strats_weights['76+']\\\n",
    "        + shop_w_features[(shop_w_features.group == 'A') & (shop_w_features['age_group'] == '18-24')]['cart_added_cnt'].std()**2 * strats_weights['18-24'])/N\n"
   ]
  },
  {
   "cell_type": "code",
   "execution_count": 282,
   "id": "13b06651",
   "metadata": {},
   "outputs": [],
   "source": [
    "std_b = (shop_w_features[(shop_w_features.group == 'B') & (shop_w_features['age_group'] == '25-45')]['cart_added_cnt'].std()**2 * strats_weights['25-45']\\\n",
    "        + shop_w_features[(shop_w_features.group == 'B') & (shop_w_features['age_group'] == '46-60')]['cart_added_cnt'].std()**2 * strats_weights['46-60']\\\n",
    "        + shop_w_features[(shop_w_features.group == 'B') & (shop_w_features['age_group'] == '61-75')]['cart_added_cnt'].std()**2 * strats_weights['61-75']\\\n",
    "        + shop_w_features[(shop_w_features.group == 'B') & (shop_w_features['age_group'] == '76+')]['cart_added_cnt'].std()**2 * strats_weights['76+']\\\n",
    "        + shop_w_features[(shop_w_features.group == 'B') & (shop_w_features['age_group'] == '18-24')]['cart_added_cnt'].std()**2 * strats_weights['18-24'])/N\n"
   ]
  },
  {
   "cell_type": "code",
   "execution_count": 283,
   "id": "83e61d8b",
   "metadata": {},
   "outputs": [],
   "source": [
    "n_a = len(shop_w_features[shop_w_features.group == 'A'])\n",
    "n_b = len(shop_w_features[shop_w_features.group == 'B'])"
   ]
  },
  {
   "cell_type": "code",
   "execution_count": 284,
   "id": "07626579",
   "metadata": {},
   "outputs": [
    {
     "name": "stdout",
     "output_type": "stream",
     "text": [
      "effect: 1.1245765283202334, std_a: 8.178193709120878e-07, std_b: 8.815974088285695e-07\n"
     ]
    },
    {
     "data": {
      "text/plain": [
       "Ttest_indResult(statistic=-507011.9533539134, pvalue=0.0)"
      ]
     },
     "execution_count": 284,
     "metadata": {},
     "output_type": "execute_result"
    }
   ],
   "source": [
    "print(f'effect: {(mean_b - mean_a)/mean_a*100}, std_a: {std_a}, std_b: {std_b}')\n",
    "\n",
    "stats.ttest_ind_from_stats(mean_a, std_a, n_a, mean_b, std_b, n_b)"
   ]
  },
  {
   "cell_type": "code",
   "execution_count": 290,
   "id": "2bd7c193",
   "metadata": {},
   "outputs": [
    {
     "data": {
      "text/plain": [
       "Ttest_indResult(statistic=-90.84924168518585, pvalue=0.0)"
      ]
     },
     "execution_count": 290,
     "metadata": {},
     "output_type": "execute_result"
    }
   ],
   "source": [
    "stats.ttest_ind(shop_w_features[shop_w_features.group == 'A']['cart_added_cnt'],\n",
    "                shop_w_features[shop_w_features.group == 'B']['cart_added_cnt'])"
   ]
  },
  {
   "cell_type": "markdown",
   "id": "cde480ca",
   "metadata": {},
   "source": [
    "P-value = 0 => выборки разные, отклоняем нулевую гипотезу"
   ]
  },
  {
   "cell_type": "markdown",
   "id": "3530bfef",
   "metadata": {},
   "source": [
    "### Проверить мощность и корректность t-критерия для постстратифицированного случая"
   ]
  },
  {
   "cell_type": "code",
   "execution_count": 286,
   "id": "45782f69",
   "metadata": {},
   "outputs": [],
   "source": [
    "def poststrat(new_df):\n",
    "    strats_weights = {}\n",
    "    shop_w_features['age_group'] = new_df['user_age'] \\\n",
    "                                .mask((new_df['user_age']>=18) & (new_df['user_age'] <=24), '18-24') \\\n",
    "                                .mask((new_df['user_age']>=25) & (new_df['user_age'] <=45), '25-45') \\\n",
    "                                .mask((new_df['user_age']>=46) & (new_df['user_age'] <=60), '46-60') \\\n",
    "                                .mask((new_df['user_age']>=61) & (new_df['user_age'] <=75), '61-75') \\\n",
    "                                .mask(new_df['user_age']>=76, '76+')\n",
    "\n",
    "    for i in range(0, shop_w_features['age_group'].nunique()):\n",
    "        key = shop_w_features['age_group'].value_counts().index[i]\n",
    "        strats_weights[key] = shop_w_features['age_group'].value_counts()[i] / N\n",
    "\n",
    "    mean_a = shop_w_features[(shop_w_features.group == 'A') & (shop_w_features['age_group'] == '25-45')]['cart_added_cnt'].mean() * strats_weights['25-45']\\\n",
    "        + shop_w_features[(shop_w_features.group == 'A') & (shop_w_features['age_group'] == '46-60')]['cart_added_cnt'].mean() * strats_weights['46-60']\\\n",
    "        + shop_w_features[(shop_w_features.group == 'A') & (shop_w_features['age_group'] == '61-75')]['cart_added_cnt'].mean() * strats_weights['61-75']\\\n",
    "        + shop_w_features[(shop_w_features.group == 'A') & (shop_w_features['age_group'] == '76+')]['cart_added_cnt'].mean() * strats_weights['76+']\\\n",
    "        + shop_w_features[(shop_w_features.group == 'A') & (shop_w_features['age_group'] == '18-24')]['cart_added_cnt'].mean() * strats_weights['18-24']\n",
    "    mean_b = shop_w_features[(shop_w_features.group == 'B') & (shop_w_features['age_group'] == '25-45')]['cart_added_cnt'].mean() * strats_weights['25-45']\\\n",
    "        + shop_w_features[(shop_w_features.group == 'B') & (shop_w_features['age_group'] == '46-60')]['cart_added_cnt'].mean() * strats_weights['46-60']\\\n",
    "        + shop_w_features[(shop_w_features.group == 'B') & (shop_w_features['age_group'] == '61-75')]['cart_added_cnt'].mean() * strats_weights['61-75']\\\n",
    "        + shop_w_features[(shop_w_features.group == 'B') & (shop_w_features['age_group'] == '76+')]['cart_added_cnt'].mean() * strats_weights['76+']\\\n",
    "        + shop_w_features[(shop_w_features.group == 'B') & (shop_w_features['age_group'] == '18-24')]['cart_added_cnt'].mean() * strats_weights['18-24']\n",
    "    \n",
    "    mean_b_ef = (shop_w_features[(shop_w_features.group == 'B') & (shop_w_features['age_group'] == '25-45')]['cart_added_cnt'].mean() * strats_weights['25-45']\\\n",
    "        + shop_w_features[(shop_w_features.group == 'B') & (shop_w_features['age_group'] == '46-60')]['cart_added_cnt'].mean() * strats_weights['46-60']\\\n",
    "        + shop_w_features[(shop_w_features.group == 'B') & (shop_w_features['age_group'] == '61-75')]['cart_added_cnt'].mean() * strats_weights['61-75']\\\n",
    "        + shop_w_features[(shop_w_features.group == 'B') & (shop_w_features['age_group'] == '76+')]['cart_added_cnt'].mean() * strats_weights['76+']\\\n",
    "        + shop_w_features[(shop_w_features.group == 'B') & (shop_w_features['age_group'] == '18-24')]['cart_added_cnt'].mean() * strats_weights['18-24'])\n",
    "\n",
    "\n",
    "    std_a = (shop_w_features[(shop_w_features.group == 'A') & (shop_w_features['age_group'] == '25-45')]['cart_added_cnt'].std()**2 * strats_weights['25-45']\\\n",
    "        + shop_w_features[(shop_w_features.group == 'A') & (shop_w_features['age_group'] == '46-60')]['cart_added_cnt'].std()**2 * strats_weights['46-60']\\\n",
    "        + shop_w_features[(shop_w_features.group == 'A') & (shop_w_features['age_group'] == '61-75')]['cart_added_cnt'].std()**2 * strats_weights['61-75']\\\n",
    "        + shop_w_features[(shop_w_features.group == 'A') & (shop_w_features['age_group'] == '76+')]['cart_added_cnt'].std()**2 * strats_weights['76+']\\\n",
    "        + shop_w_features[(shop_w_features.group == 'A') & (shop_w_features['age_group'] == '18-24')]['cart_added_cnt'].std()**2 * strats_weights['18-24'])/N\n",
    "\n",
    "    std_b = (shop_w_features[(shop_w_features.group == 'B') & (shop_w_features['age_group'] == '25-45')]['cart_added_cnt'].std()**2 * strats_weights['25-45']\\\n",
    "        + shop_w_features[(shop_w_features.group == 'B') & (shop_w_features['age_group'] == '46-60')]['cart_added_cnt'].std()**2 * strats_weights['46-60']\\\n",
    "        + shop_w_features[(shop_w_features.group == 'B') & (shop_w_features['age_group'] == '61-75')]['cart_added_cnt'].std()**2 * strats_weights['61-75']\\\n",
    "        + shop_w_features[(shop_w_features.group == 'B') & (shop_w_features['age_group'] == '76+')]['cart_added_cnt'].std()**2 * strats_weights['76+']\\\n",
    "        + shop_w_features[(shop_w_features.group == 'B') & (shop_w_features['age_group'] == '18-24')]['cart_added_cnt'].std()**2 * strats_weights['18-24'])/N\n",
    "    \n",
    "    n_a = len(shop_w_features[shop_w_features.group == 'A'])\n",
    "    n_b = len(shop_w_features[shop_w_features.group == 'B'])\n",
    "    \n",
    "    shop_w_features.loc[shop_w_features.group == 'B','cart_added_cnt'] *= 1.05\n",
    "    \n",
    "    mean_b_ef = (shop_w_features[(shop_w_features.group == 'B') & (shop_w_features['age_group'] == '25-45')]['cart_added_cnt'].mean() * strats_weights['25-45']\\\n",
    "        + shop_w_features[(shop_w_features.group == 'B') & (shop_w_features['age_group'] == '46-60')]['cart_added_cnt'].mean() * strats_weights['46-60']\\\n",
    "        + shop_w_features[(shop_w_features.group == 'B') & (shop_w_features['age_group'] == '61-75')]['cart_added_cnt'].mean() * strats_weights['61-75']\\\n",
    "        + shop_w_features[(shop_w_features.group == 'B') & (shop_w_features['age_group'] == '76+')]['cart_added_cnt'].mean() * strats_weights['76+']\\\n",
    "        + shop_w_features[(shop_w_features.group == 'B') & (shop_w_features['age_group'] == '18-24')]['cart_added_cnt'].mean() * strats_weights['18-24'])\n",
    "\n",
    "    std_b_ef = (shop_w_features[(shop_w_features.group == 'B') & (shop_w_features['age_group'] == '25-45')]['cart_added_cnt'].std()**2 * strats_weights['25-45']\\\n",
    "        + shop_w_features[(shop_w_features.group == 'B') & (shop_w_features['age_group'] == '46-60')]['cart_added_cnt'].std()**2 * strats_weights['46-60']\\\n",
    "        + shop_w_features[(shop_w_features.group == 'B') & (shop_w_features['age_group'] == '61-75')]['cart_added_cnt'].std()**2 * strats_weights['61-75']\\\n",
    "        + shop_w_features[(shop_w_features.group == 'B') & (shop_w_features['age_group'] == '76+')]['cart_added_cnt'].std()**2 * strats_weights['76+']\\\n",
    "        + shop_w_features[(shop_w_features.group == 'B') & (shop_w_features['age_group'] == '18-24')]['cart_added_cnt'].std()**2 * strats_weights['18-24'])/N\n",
    "    \n",
    "    return mean_a, std_a, n_a, mean_b, std_b, n_b, mean_b_ef, std_b_ef"
   ]
  },
  {
   "cell_type": "code",
   "execution_count": 292,
   "id": "b4da5565",
   "metadata": {},
   "outputs": [
    {
     "name": "stderr",
     "output_type": "stream",
     "text": [
      "100%|███████████████████████████████████████| 1000/1000 [52:17<00:00,  3.14s/it]\n"
     ]
    }
   ],
   "source": [
    "correctness = []\n",
    "power = []\n",
    "shop = shop_metrics_old.drop(columns=['group'])\n",
    "\n",
    "for i in tqdm(range(1000)):\n",
    "    new_group = groups_splitter(shop.copy(), user_salt=salt_generator())\n",
    "    new_df = pd.merge(shop, new_group, how=\"left\", on=['user_id']).drop_duplicates()\n",
    "    new_df = pd.merge(new_df, shop_users_info, how=\"left\", on=['user_id']).drop_duplicates()\n",
    "    \n",
    "    mean_a, std_a, n_a, mean_b, std_b, n_b, mean_b_ef, std_b_ef = poststrat(shop_w_features)\n",
    "    \n",
    "    p_cor = stats.ttest_ind_from_stats(mean_a, std_a, n_a, mean_b, std_b, n_b)[1]\n",
    "    p_pow = stats.ttest_ind_from_stats(mean_a, std_a, n_a, mean_b_ef, std_b_ef, n_b)[1]\n",
    "    \n",
    "    correctness.append(p_cor)\n",
    "    power.append(p_pow)"
   ]
  },
  {
   "cell_type": "code",
   "execution_count": 294,
   "id": "8ace68c3",
   "metadata": {},
   "outputs": [
    {
     "data": {
      "text/plain": [
       "<Axes: ylabel='Count'>"
      ]
     },
     "execution_count": 294,
     "metadata": {},
     "output_type": "execute_result"
    },
    {
     "data": {
      "image/png": "[encoded data removed]",
      "text/plain": [
       "<Figure size 470x427 with 1 Axes>"
      ]
     },
     "metadata": {},
     "output_type": "display_data"
    }
   ],
   "source": [
    "sns.set(rc={'figure.figsize':(4.7,4.27)})\n",
    "sns.histplot(data=correctness, bins=10, color='brown', kde=True)"
   ]
  },
  {
   "cell_type": "code",
   "execution_count": 270,
   "id": "0f89f69b",
   "metadata": {},
   "outputs": [
    {
     "name": "stdout",
     "output_type": "stream",
     "text": [
      " power: 100.0% , correctness: 0.0%\n"
     ]
    }
   ],
   "source": [
    "power = np.array(power)\n",
    "\n",
    "correctness = np.array(correctness)\n",
    "\n",
    "print(f' power: {(power[power < 0.05].shape[0] / power.shape[0]) * 100}% , correctness: {(1 - (correctness[correctness < 0.05].shape[0] / correctness.shape[0])) * 100}%')"
   ]
  },
  {
   "cell_type": "markdown",
   "id": "3473d008",
   "metadata": {},
   "source": [
    "#### Вывод: Выборки разные, это показывает граффик, также легко просвечивается разница, если ее добавить. Правда и график p-value не равномерный "
   ]
  }
 ],
 "metadata": {
  "kernelspec": {
   "display_name": "Python 3 (ipykernel)",
   "language": "python",
   "name": "python3"
  },
  "language_info": {
   "codemirror_mode": {
    "name": "ipython",
    "version": 3
   },
   "file_extension": ".py",
   "mimetype": "text/x-python",
   "name": "python",
   "nbconvert_exporter": "python",
   "pygments_lexer": "ipython3",
   "version": "3.10.9"
  }
 },
 "nbformat": 4,
 "nbformat_minor": 5
}
